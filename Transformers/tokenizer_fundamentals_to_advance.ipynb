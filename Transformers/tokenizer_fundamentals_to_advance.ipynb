{
 "cells": [
  {
   "cell_type": "code",
   "execution_count": 7,
   "metadata": {},
   "outputs": [
    {
     "name": "stdout",
     "output_type": "stream",
     "text": [
      "string :  Hello world?\n",
      "len string :  12\n",
      "Bytes:  [72, 101, 108, 108, 111, 32, 119, 111, 114, 108, 100, 63]\n",
      "len of bytes:  12\n"
     ]
    }
   ],
   "source": [
    "a = \"Hello world?\"\n",
    "bytes_= list(a.encode(\"utf-8\"))\n",
    "print(\"string : \", a)\n",
    "print(\"len string : \", len(a))\n",
    "print(\"Bytes: \", bytes_)\n",
    "print(\"len of bytes: \", len(bytes_))"
   ]
  },
  {
   "cell_type": "code",
   "execution_count": 11,
   "metadata": {},
   "outputs": [
    {
     "data": {
      "text/plain": [
       "'Hello world?'"
      ]
     },
     "execution_count": 11,
     "metadata": {},
     "output_type": "execute_result"
    }
   ],
   "source": [
    "bytes(bytes_).decode(\"utf-8\")"
   ]
  }
 ],
 "metadata": {
  "kernelspec": {
   "display_name": "autogen",
   "language": "python",
   "name": "python3"
  },
  "language_info": {
   "codemirror_mode": {
    "name": "ipython",
    "version": 3
   },
   "file_extension": ".py",
   "mimetype": "text/x-python",
   "name": "python",
   "nbconvert_exporter": "python",
   "pygments_lexer": "ipython3",
   "version": "3.11.11"
  }
 },
 "nbformat": 4,
 "nbformat_minor": 2
}
