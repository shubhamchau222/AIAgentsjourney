{
 "cells": [
  {
   "cell_type": "code",
   "execution_count": 1,
   "metadata": {},
   "outputs": [
    {
     "name": "stdout",
     "output_type": "stream",
     "text": [
      "string :  Hello world?\n",
      "len string :  12\n",
      "Bytes:  [72, 101, 108, 108, 111, 32, 119, 111, 114, 108, 100, 63]\n",
      "len of bytes:  12\n"
     ]
    }
   ],
   "source": [
    "a = \"Hello world?\"\n",
    "bytes_= list(a.encode(\"utf-8\"))\n",
    "print(\"string : \", a)\n",
    "print(\"len string : \", len(a))\n",
    "print(\"Bytes: \", bytes_)\n",
    "print(\"len of bytes: \", len(bytes_))"
   ]
  },
  {
   "cell_type": "code",
   "execution_count": 88,
   "metadata": {},
   "outputs": [
    {
     "data": {
      "text/plain": [
       "'\\x00\\x00\\x00\\x00\\x00\\x00\\x00\\x00\\x00\\x00\\x00\\x00\\x00\\x00\\x00\\x00\\x00\\x00\\x00\\x00\\x00\\x00\\x00\\x00\\x00\\x00\\x00\\x00\\x00\\x00\\x00\\x00\\x00\\x00\\x00\\x00\\x00\\x00\\x00\\x00\\x00\\x00\\x00\\x00\\x00\\x00\\x00\\x00\\x00\\x00\\x00\\x00\\x00\\x00\\x00\\x00\\x00\\x00\\x00\\x00\\x00\\x00\\x00\\x00\\x00\\x00\\x00\\x00\\x00\\x00\\x00\\x00'"
      ]
     },
     "execution_count": 88,
     "metadata": {},
     "output_type": "execute_result"
    }
   ],
   "source": [
    "bytes(72).decode(\"utf-8\")"
   ]
  },
  {
   "cell_type": "code",
   "execution_count": 2,
   "metadata": {},
   "outputs": [
    {
     "data": {
      "text/plain": [
       "'Hello world?'"
      ]
     },
     "execution_count": 2,
     "metadata": {},
     "output_type": "execute_result"
    }
   ],
   "source": [
    "bytes(bytes_).decode(\"utf-8\")"
   ]
  },
  {
   "cell_type": "code",
   "execution_count": 39,
   "metadata": {},
   "outputs": [
    {
     "name": "stdout",
     "output_type": "stream",
     "text": [
      "text length:  2750\n",
      "base vocab length:  52\n",
      "Photosynthesis is a system of biological processes by which photosynthetic organisms, such as most plants, algae, and cyanobacteria, convert light energy, typically from sunlight, into the chemical energy necessary to fuel their metabolism. Photosynthesis usually refers to oxygenic photosynthesis, a process that produces oxygen. Photosynthetic organisms store the chemical energy so produced within intracellular organic compounds (compounds containing carbon) like sugars, glycogen, cellulose and starches. To use this stored chemical energy, an organism's cells metabolize the organic compounds through cellular respiration. Photosynthesis plays a critical role in producing and maintaining the oxygen content of the Earth's atmosphere, and it supplies most of the biological energy necessary for complex life on Earth.[2]Some bacteria also perform anoxygenic photosynthesis, which uses bacteriochlorophyll to split hydrogen sulfide as a reductant instead of water, producing sulfur instead of oxygen. Archaea such as Halobacterium also perform a type of non-carbon-fixing anoxygenic photosynthesis, where the simpler photopigment retinal and its microbial rhodopsin derivatives are used to absorb green light and power proton pumps to directly synthesize adenosine triphosphate (ATP), the \"energy currency\" of cells. Such archaeal photosynthesis might have been the earliest form of photosynthesis that evolved on Earth, as far back as the Paleoarchean, preceding that of cyanobacteria (see Purple Earth hypothesis).While the details may differ between species, the process always begins when light energy is absorbed by the reaction centers, proteins that contain photosynthetic pigments or chromophores. In plants, these pigments are chlorophylls (a porphyrin derivative that absorbs the red and blue spectrums of light, thus reflecting green) held inside chloroplasts, abundant in leaf cells. In bacteria, they are embedded in the plasma membrane. In these light-dependent reactions, some energy is used to strip electrons from suitable substances, such as water, producing oxygen gas. The hydrogen freed by the splitting of water is used in the creation of two important molecules that participate in energetic processes: reduced nicotinamide adenine dinucleotide phosphate (NADPH) and ATP.In plants, algae, and cyanobacteria, sugars are synthesized by a subsequent sequence of light-independent reactions called the Calvin cycle. In this process, atmospheric carbon dioxide is incorporated into already existing organic compounds, such as ribulose bisphosphate (RuBP).[3] Using the ATP and NADPH produced by the light-dependent reactions, the resulting compounds are then reduced and removed to form further carbohydrates, such as glucose. \n"
     ]
    }
   ],
   "source": [
    "# \n",
    "text= \"\"\"Photosynthesis is a system of biological processes by which photosynthetic organisms, such as most plants, algae, and cyanobacteria, convert light energy, typically from sunlight, into the chemical energy necessary to fuel their metabolism. Photosynthesis usually refers to oxygenic photosynthesis, a process that produces oxygen. Photosynthetic organisms store the chemical energy so produced within intracellular organic compounds (compounds containing carbon) like sugars, glycogen, cellulose and starches. To use this stored chemical energy, an organism's cells metabolize the organic compounds through cellular respiration. Photosynthesis plays a critical role in producing and maintaining the oxygen content of the Earth's atmosphere, and it supplies most of the biological energy necessary for complex life on Earth.[2]Some bacteria also perform anoxygenic photosynthesis, which uses bacteriochlorophyll to split hydrogen sulfide as a reductant instead of water, producing sulfur instead of oxygen. Archaea such as Halobacterium also perform a type of non-carbon-fixing anoxygenic photosynthesis, where the simpler photopigment retinal and its microbial rhodopsin derivatives are used to absorb green light and power proton pumps to directly synthesize adenosine triphosphate (ATP), the \"energy currency\" of cells. Such archaeal photosynthesis might have been the earliest form of photosynthesis that evolved on Earth, as far back as the Paleoarchean, preceding that of cyanobacteria (see Purple Earth hypothesis).While the details may differ between species, the process always begins when light energy is absorbed by the reaction centers, proteins that contain photosynthetic pigments or chromophores. In plants, these pigments are chlorophylls (a porphyrin derivative that absorbs the red and blue spectrums of light, thus reflecting green) held inside chloroplasts, abundant in leaf cells. In bacteria, they are embedded in the plasma membrane. In these light-dependent reactions, some energy is used to strip electrons from suitable substances, such as water, producing oxygen gas. The hydrogen freed by the splitting of water is used in the creation of two important molecules that participate in energetic processes: reduced nicotinamide adenine dinucleotide phosphate (NADPH) and ATP.In plants, algae, and cyanobacteria, sugars are synthesized by a subsequent sequence of light-independent reactions called the Calvin cycle. In this process, atmospheric carbon dioxide is incorporated into already existing organic compounds, such as ribulose bisphosphate (RuBP).[3] Using the ATP and NADPH produced by the light-dependent reactions, the resulting compounds are then reduced and removed to form further carbohydrates, such as glucose. \"\"\"\n",
    "base_vocabulary = list(set(text))\n",
    "print(\"text length: \", len(text))\n",
    "print(\"base vocab length: \", len(base_vocabulary)) # unique chars\n",
    "print(text)"
   ]
  },
  {
   "cell_type": "code",
   "execution_count": 40,
   "metadata": {},
   "outputs": [
    {
     "data": {
      "text/plain": [
       "(2750, [80, 104, 111, 116, 111])"
      ]
     },
     "execution_count": 40,
     "metadata": {},
     "output_type": "execute_result"
    }
   ],
   "source": [
    "encoded_bytes= list(text.encode(\"utf-8\"))\n",
    "len(encoded_bytes), encoded_bytes[:5]"
   ]
  },
  {
   "cell_type": "code",
   "execution_count": 41,
   "metadata": {},
   "outputs": [
    {
     "data": {
      "text/plain": [
       "([80, 104, 111, 116, 111, 115, 121, 110, 116, 104],\n",
       " [255,\n",
       "  254,\n",
       "  80,\n",
       "  0,\n",
       "  104,\n",
       "  0,\n",
       "  111,\n",
       "  0,\n",
       "  116,\n",
       "  0,\n",
       "  111,\n",
       "  0,\n",
       "  115,\n",
       "  0,\n",
       "  121,\n",
       "  0,\n",
       "  110,\n",
       "  0,\n",
       "  116,\n",
       "  0,\n",
       "  104,\n",
       "  0],\n",
       " [255,\n",
       "  254,\n",
       "  0,\n",
       "  0,\n",
       "  80,\n",
       "  0,\n",
       "  0,\n",
       "  0,\n",
       "  104,\n",
       "  0,\n",
       "  0,\n",
       "  0,\n",
       "  111,\n",
       "  0,\n",
       "  0,\n",
       "  0,\n",
       "  116,\n",
       "  0,\n",
       "  0,\n",
       "  0,\n",
       "  111,\n",
       "  0,\n",
       "  0,\n",
       "  0,\n",
       "  115,\n",
       "  0,\n",
       "  0,\n",
       "  0,\n",
       "  121,\n",
       "  0,\n",
       "  0,\n",
       "  0,\n",
       "  110,\n",
       "  0,\n",
       "  0,\n",
       "  0,\n",
       "  116,\n",
       "  0,\n",
       "  0,\n",
       "  0,\n",
       "  104,\n",
       "  0,\n",
       "  0,\n",
       "  0])"
      ]
     },
     "execution_count": 41,
     "metadata": {},
     "output_type": "execute_result"
    }
   ],
   "source": [
    "# utf-8 encoding: we'll stick with utf-8 encoding\n",
    "#utf-16: contains more zero (unuseful encoding) same for utf-32\n",
    "list(text[:10].encode(\"utf-8\")), list(text[:10].encode(\"utf-16\")), list(text[:10].encode(\"utf-32\"))"
   ]
  },
  {
   "cell_type": "code",
   "execution_count": 43,
   "metadata": {},
   "outputs": [
    {
     "name": "stdout",
     "output_type": "stream",
     "text": [
      "text length:  3683\n",
      "base vocab length:  65\n",
      "Photosynthesis is a system of biological processes by which photosynthetic organisms, such as most plants, algae, and cyanobacteria, convert light energy, typically from sunlight, into the chemical energy necessary to fuel their metabolism. Photosynthesis usually refers to oxygenic photosynthesis, a process that produces oxygen. Photosynthetic organisms store the chemical energy so produced within intracellular organic compounds (compounds containing carbon) like sugars, glycogen, cellulose and starches. To use this stored chemical energy, an organism's cells metabolize the organic compounds through cellular respiration. Photosynthesis plays a critical role in producing and maintaining the oxygen content of the Earth's atmosphere, and it supplies most of the biological energy necessary for complex life on Earth.[2]Some bacteria also perform anoxygenic photosynthesis, which uses bacteriochlorophyll to split hydrogen sulfide as a reductant instead of water, producing sulfur instead of oxygen. Archaea such as Halobacterium also perform a type of non-carbon-fixing anoxygenic photosynthesis, where the simpler photopigment retinal and its microbial rhodopsin derivatives are used to absorb green light and power proton pumps to directly synthesize adenosine triphosphate (ATP), the \"energy currency\" of cells. Such archaeal photosynthesis might have been the earliest form of photosynthesis that evolved on Earth, as far back as the Paleoarchean, preceding that of cyanobacteria (see Purple Earth hypothesis).While the details may differ between species, the process always begins when light energy is absorbed by the reaction centers, proteins that contain photosynthetic pigments or chromophores. In plants, these pigments are chlorophylls (a porphyrin derivative that absorbs the red and blue spectrums of light, thus reflecting green) held inside chloroplasts, abundant in leaf cells. In bacteria, they are embedded in the plasma membrane. In these light-dependent reactions, some energy is used to strip electrons from suitable substances, such as water, producing oxygen gas. The hydrogen freed by the splitting of water is used in the creation of two important molecules that participate in energetic processes: reduced nicotinamide adenine dinucleotide phosphate (NADPH) and ATP.In plants, algae, and cyanobacteria, sugars are synthesized by a subsequent sequence of light-independent reactions called the Calvin cycle. In this process, atmospheric carbon dioxide is incorporated into already existing organic compounds, such as ribulose bisphosphate (RuBP).[3] Using the ATP and NADPH produced by the light-dependent reactions, the resulting compounds are then reduced and removed to form further carbohydrates, such as glucose. In other bacteria, different mechanisms like the reverse Krebs cycle are used to achieve the same end.The first photosynthetic organisms probably evolved early in the evolutionary history of life using reducing agents such as hydrogen or hydrogen sulfide, rather than water, as sources of electrons.[4] Cyanobacteria appeared later; the excess oxygen they produced contributed directly to the oxygenation of the Earth,[5] which rendered the evolution of complex life possible. The average rate of energy captured by global photosynthesis is approximately 130 terawatts,[6][7][8] which is about eight times the total power consumption of human civilization.[9] Photosynthetic organisms also convert around 100–115 billion tons (91–104 Pg petagrams, or billions of metric tons), of carbon into biomass per year.[10][11] Photosynthesis was discovered in 1779 by Jan Ingenhousz who showed that plants need light, not just soil and water.\n",
      "-----------\n",
      "[80, 104, 111, 116, 111, 115, 121, 110, 116, 104, 101, 115, 105, 115, 32, 105, 115, 32, 97, 32, 115, 121, 115, 116, 101, 109, 32, 111, 102, 32, 98, 105, 111, 108, 111, 103, 105, 99, 97, 108, 32, 112, 114, 111, 99, 101, 115, 115, 101, 115, 32, 98, 121, 32, 119, 104, 105, 99, 104, 32, 112, 104, 111, 116, 111, 115, 121, 110, 116, 104, 101, 116, 105, 99, 32, 111, 114, 103, 97, 110, 105, 115, 109, 115, 44, 32, 115, 117, 99, 104, 32, 97, 115, 32, 109, 111, 115, 116, 32, 112, 108, 97, 110, 116, 115, 44, 32, 97, 108, 103, 97, 101, 44, 32, 97, 110, 100, 32, 99, 121, 97, 110, 111, 98, 97, 99, 116, 101, 114, 105, 97, 44, 32, 99, 111, 110, 118, 101, 114, 116, 32, 108, 105, 103, 104, 116, 32, 101, 110, 101, 114, 103, 121, 44, 32, 116, 121, 112, 105, 99, 97, 108, 108, 121, 32, 102, 114, 111, 109, 32, 115, 117, 110, 108, 105, 103, 104, 116, 44, 32, 105, 110, 116, 111, 32, 116, 104, 101, 32, 99, 104, 101, 109, 105, 99, 97, 108, 32, 101, 110, 101, 114, 103, 121, 32, 110, 101, 99, 101, 115, 115, 97, 114, 121, 32, 116, 111, 32, 102, 117, 101, 108, 32, 116, 104, 101, 105, 114, 32, 109, 101, 116, 97, 98, 111, 108, 105, 115, 109, 46, 32, 80, 104, 111, 116, 111, 115, 121, 110, 116, 104, 101, 115, 105, 115, 32, 117, 115, 117, 97, 108, 108, 121, 32, 114, 101, 102, 101, 114, 115, 32, 116, 111, 32, 111, 120, 121, 103, 101, 110, 105, 99, 32, 112, 104, 111, 116, 111, 115, 121, 110, 116, 104, 101, 115, 105, 115, 44, 32, 97, 32, 112, 114, 111, 99, 101, 115, 115, 32, 116, 104, 97, 116, 32, 112, 114, 111, 100, 117, 99, 101, 115, 32, 111, 120, 121, 103, 101, 110, 46, 32, 80, 104, 111, 116, 111, 115, 121, 110, 116, 104, 101, 116, 105, 99, 32, 111, 114, 103, 97, 110, 105, 115, 109, 115, 32, 115, 116, 111, 114, 101, 32, 116, 104, 101, 32, 99, 104, 101, 109, 105, 99, 97, 108, 32, 101, 110, 101, 114, 103, 121, 32, 115, 111, 32, 112, 114, 111, 100, 117, 99, 101, 100, 32, 119, 105, 116, 104, 105, 110, 32, 105, 110, 116, 114, 97, 99, 101, 108, 108, 117, 108, 97, 114, 32, 111, 114, 103, 97, 110, 105, 99, 32, 99, 111, 109, 112, 111, 117, 110, 100, 115, 32, 40, 99, 111, 109, 112, 111, 117, 110, 100, 115, 32, 99, 111, 110, 116, 97, 105, 110, 105, 110, 103, 32, 99, 97, 114, 98, 111, 110, 41, 32, 108, 105, 107, 101, 32, 115, 117, 103, 97, 114, 115, 44, 32, 103, 108, 121, 99, 111, 103, 101, 110, 44, 32, 99, 101, 108, 108, 117, 108, 111, 115, 101, 32, 97, 110, 100, 32, 115, 116, 97, 114, 99, 104, 101, 115, 46, 32, 84, 111, 32, 117, 115, 101, 32, 116, 104, 105, 115, 32, 115, 116, 111, 114, 101, 100, 32, 99, 104, 101, 109, 105, 99, 97, 108, 32, 101, 110, 101, 114, 103, 121, 44, 32, 97, 110, 32, 111, 114, 103, 97, 110, 105, 115, 109, 39, 115, 32, 99, 101, 108, 108, 115, 32, 109, 101, 116, 97, 98, 111, 108, 105, 122, 101, 32, 116, 104, 101, 32, 111, 114, 103, 97, 110, 105, 99, 32, 99, 111, 109, 112, 111, 117, 110, 100, 115, 32, 116, 104, 114, 111, 117, 103, 104, 32, 99, 101, 108, 108, 117, 108, 97, 114, 32, 114, 101, 115, 112, 105, 114, 97, 116, 105, 111, 110, 46, 32, 80, 104, 111, 116, 111, 115, 121, 110, 116, 104, 101, 115, 105, 115, 32, 112, 108, 97, 121, 115, 32, 97, 32, 99, 114, 105, 116, 105, 99, 97, 108, 32, 114, 111, 108, 101, 32, 105, 110, 32, 112, 114, 111, 100, 117, 99, 105, 110, 103, 32, 97, 110, 100, 32, 109, 97, 105, 110, 116, 97, 105, 110, 105, 110, 103, 32, 116, 104, 101, 32, 111, 120, 121, 103, 101, 110, 32, 99, 111, 110, 116, 101, 110, 116, 32, 111, 102, 32, 116, 104, 101, 32, 69, 97, 114, 116, 104, 39, 115, 32, 97, 116, 109, 111, 115, 112, 104, 101, 114, 101, 44, 32, 97, 110, 100, 32, 105, 116, 32, 115, 117, 112, 112, 108, 105, 101, 115, 32, 109, 111, 115, 116, 32, 111, 102, 32, 116, 104, 101, 32, 98, 105, 111, 108, 111, 103, 105, 99, 97, 108, 32, 101, 110, 101, 114, 103, 121, 32, 110, 101, 99, 101, 115, 115, 97, 114, 121, 32, 102, 111, 114, 32, 99, 111, 109, 112, 108, 101, 120, 32, 108, 105, 102, 101, 32, 111, 110, 32, 69, 97, 114, 116, 104, 46, 91, 50, 93, 83, 111, 109, 101, 32, 98, 97, 99, 116, 101, 114, 105, 97, 32, 97, 108, 115, 111, 32, 112, 101, 114, 102, 111, 114, 109, 32, 97, 110, 111, 120, 121, 103, 101, 110, 105, 99, 32, 112, 104, 111, 116, 111, 115, 121, 110, 116, 104, 101, 115, 105, 115, 44, 32, 119, 104, 105, 99, 104, 32, 117, 115, 101, 115, 32, 98, 97, 99, 116, 101, 114, 105, 111, 99, 104, 108, 111, 114, 111, 112, 104, 121, 108, 108, 32, 116, 111, 32, 115, 112, 108, 105, 116, 32, 104, 121, 100, 114, 111, 103, 101, 110, 32, 115, 117, 108, 102, 105, 100, 101, 32, 97, 115, 32, 97, 32, 114, 101, 100, 117, 99, 116, 97, 110, 116, 32, 105, 110, 115, 116, 101, 97, 100, 32, 111, 102, 32, 119, 97, 116, 101, 114, 44, 32, 112, 114, 111, 100, 117, 99, 105, 110, 103, 32, 115, 117, 108, 102, 117, 114, 32, 105, 110, 115, 116, 101, 97, 100, 32, 111, 102, 32, 111, 120, 121, 103, 101, 110, 46, 32, 65, 114, 99, 104, 97, 101, 97, 32, 115, 117, 99, 104, 32, 97, 115, 32, 72, 97, 108, 111, 98, 97, 99, 116, 101, 114, 105, 117, 109, 32, 97, 108, 115, 111, 32, 112, 101, 114, 102, 111, 114, 109, 32, 97, 32, 116, 121, 112, 101, 32, 111, 102, 32, 110, 111, 110, 45, 99, 97, 114, 98, 111, 110, 45, 102, 105, 120, 105, 110, 103, 32, 97, 110, 111, 120, 121, 103, 101, 110, 105, 99, 32, 112, 104, 111, 116, 111, 115, 121, 110, 116, 104, 101, 115, 105, 115, 44, 32, 119, 104, 101, 114, 101, 32, 116, 104, 101, 32, 115, 105, 109, 112, 108, 101, 114, 32, 112, 104, 111, 116, 111, 112, 105, 103, 109, 101, 110, 116, 32, 114, 101, 116, 105, 110, 97, 108, 32, 97, 110, 100, 32, 105, 116, 115, 32, 109, 105, 99, 114, 111, 98, 105, 97, 108, 32, 114, 104, 111, 100, 111, 112, 115, 105, 110, 32, 100, 101, 114, 105, 118, 97, 116, 105, 118, 101, 115, 32, 97, 114, 101, 32, 117, 115, 101, 100, 32, 116, 111, 32, 97, 98, 115, 111, 114, 98, 32, 103, 114, 101, 101, 110, 32, 108, 105, 103, 104, 116, 32, 97, 110, 100, 32, 112, 111, 119, 101, 114, 32, 112, 114, 111, 116, 111, 110, 32, 112, 117, 109, 112, 115, 32, 116, 111, 32, 100, 105, 114, 101, 99, 116, 108, 121, 32, 115, 121, 110, 116, 104, 101, 115, 105, 122, 101, 32, 97, 100, 101, 110, 111, 115, 105, 110, 101, 32, 116, 114, 105, 112, 104, 111, 115, 112, 104, 97, 116, 101, 32, 40, 65, 84, 80, 41, 44, 32, 116, 104, 101, 32, 34, 101, 110, 101, 114, 103, 121, 32, 99, 117, 114, 114, 101, 110, 99, 121, 34, 32, 111, 102, 32, 99, 101, 108, 108, 115, 46, 32, 83, 117, 99, 104, 32, 97, 114, 99, 104, 97, 101, 97, 108, 32, 112, 104, 111, 116, 111, 115, 121, 110, 116, 104, 101, 115, 105, 115, 32, 109, 105, 103, 104, 116, 32, 104, 97, 118, 101, 32, 98, 101, 101, 110, 32, 116, 104, 101, 32, 101, 97, 114, 108, 105, 101, 115, 116, 32, 102, 111, 114, 109, 32, 111, 102, 32, 112, 104, 111, 116, 111, 115, 121, 110, 116, 104, 101, 115, 105, 115, 32, 116, 104, 97, 116, 32, 101, 118, 111, 108, 118, 101, 100, 32, 111, 110, 32, 69, 97, 114, 116, 104, 44, 32, 97, 115, 32, 102, 97, 114, 32, 98, 97, 99, 107, 32, 97, 115, 32, 116, 104, 101, 32, 80, 97, 108, 101, 111, 97, 114, 99, 104, 101, 97, 110, 44, 32, 112, 114, 101, 99, 101, 100, 105, 110, 103, 32, 116, 104, 97, 116, 32, 111, 102, 32, 99, 121, 97, 110, 111, 98, 97, 99, 116, 101, 114, 105, 97, 32, 40, 115, 101, 101, 32, 80, 117, 114, 112, 108, 101, 32, 69, 97, 114, 116, 104, 32, 104, 121, 112, 111, 116, 104, 101, 115, 105, 115, 41, 46, 87, 104, 105, 108, 101, 32, 116, 104, 101, 32, 100, 101, 116, 97, 105, 108, 115, 32, 109, 97, 121, 32, 100, 105, 102, 102, 101, 114, 32, 98, 101, 116, 119, 101, 101, 110, 32, 115, 112, 101, 99, 105, 101, 115, 44, 32, 116, 104, 101, 32, 112, 114, 111, 99, 101, 115, 115, 32, 97, 108, 119, 97, 121, 115, 32, 98, 101, 103, 105, 110, 115, 32, 119, 104, 101, 110, 32, 108, 105, 103, 104, 116, 32, 101, 110, 101, 114, 103, 121, 32, 105, 115, 32, 97, 98, 115, 111, 114, 98, 101, 100, 32, 98, 121, 32, 116, 104, 101, 32, 114, 101, 97, 99, 116, 105, 111, 110, 32, 99, 101, 110, 116, 101, 114, 115, 44, 32, 112, 114, 111, 116, 101, 105, 110, 115, 32, 116, 104, 97, 116, 32, 99, 111, 110, 116, 97, 105, 110, 32, 112, 104, 111, 116, 111, 115, 121, 110, 116, 104, 101, 116, 105, 99, 32, 112, 105, 103, 109, 101, 110, 116, 115, 32, 111, 114, 32, 99, 104, 114, 111, 109, 111, 112, 104, 111, 114, 101, 115, 46, 32, 73, 110, 32, 112, 108, 97, 110, 116, 115, 44, 32, 116, 104, 101, 115, 101, 32, 112, 105, 103, 109, 101, 110, 116, 115, 32, 97, 114, 101, 32, 99, 104, 108, 111, 114, 111, 112, 104, 121, 108, 108, 115, 32, 40, 97, 32, 112, 111, 114, 112, 104, 121, 114, 105, 110, 32, 100, 101, 114, 105, 118, 97, 116, 105, 118, 101, 32, 116, 104, 97, 116, 32, 97, 98, 115, 111, 114, 98, 115, 32, 116, 104, 101, 32, 114, 101, 100, 32, 97, 110, 100, 32, 98, 108, 117, 101, 32, 115, 112, 101, 99, 116, 114, 117, 109, 115, 32, 111, 102, 32, 108, 105, 103, 104, 116, 44, 32, 116, 104, 117, 115, 32, 114, 101, 102, 108, 101, 99, 116, 105, 110, 103, 32, 103, 114, 101, 101, 110, 41, 32, 104, 101, 108, 100, 32, 105, 110, 115, 105, 100, 101, 32, 99, 104, 108, 111, 114, 111, 112, 108, 97, 115, 116, 115, 44, 32, 97, 98, 117, 110, 100, 97, 110, 116, 32, 105, 110, 32, 108, 101, 97, 102, 32, 99, 101, 108, 108, 115, 46, 32, 73, 110, 32, 98, 97, 99, 116, 101, 114, 105, 97, 44, 32, 116, 104, 101, 121, 32, 97, 114, 101, 32, 101, 109, 98, 101, 100, 100, 101, 100, 32, 105, 110, 32, 116, 104, 101, 32, 112, 108, 97, 115, 109, 97, 32, 109, 101, 109, 98, 114, 97, 110, 101, 46, 32, 73, 110, 32, 116, 104, 101, 115, 101, 32, 108, 105, 103, 104, 116, 45, 100, 101, 112, 101, 110, 100, 101, 110, 116, 32, 114, 101, 97, 99, 116, 105, 111, 110, 115, 44, 32, 115, 111, 109, 101, 32, 101, 110, 101, 114, 103, 121, 32, 105, 115, 32, 117, 115, 101, 100, 32, 116, 111, 32, 115, 116, 114, 105, 112, 32, 101, 108, 101, 99, 116, 114, 111, 110, 115, 32, 102, 114, 111, 109, 32, 115, 117, 105, 116, 97, 98, 108, 101, 32, 115, 117, 98, 115, 116, 97, 110, 99, 101, 115, 44, 32, 115, 117, 99, 104, 32, 97, 115, 32, 119, 97, 116, 101, 114, 44, 32, 112, 114, 111, 100, 117, 99, 105, 110, 103, 32, 111, 120, 121, 103, 101, 110, 32, 103, 97, 115, 46, 32, 84, 104, 101, 32, 104, 121, 100, 114, 111, 103, 101, 110, 32, 102, 114, 101, 101, 100, 32, 98, 121, 32, 116, 104, 101, 32, 115, 112, 108, 105, 116, 116, 105, 110, 103, 32, 111, 102, 32, 119, 97, 116, 101, 114, 32, 105, 115, 32, 117, 115, 101, 100, 32, 105, 110, 32, 116, 104, 101, 32, 99, 114, 101, 97, 116, 105, 111, 110, 32, 111, 102, 32, 116, 119, 111, 32, 105, 109, 112, 111, 114, 116, 97, 110, 116, 32, 109, 111, 108, 101, 99, 117, 108, 101, 115, 32, 116, 104, 97, 116, 32, 112, 97, 114, 116, 105, 99, 105, 112, 97, 116, 101, 32, 105, 110, 32, 101, 110, 101, 114, 103, 101, 116, 105, 99, 32, 112, 114, 111, 99, 101, 115, 115, 101, 115, 58, 32, 114, 101, 100, 117, 99, 101, 100, 32, 110, 105, 99, 111, 116, 105, 110, 97, 109, 105, 100, 101, 32, 97, 100, 101, 110, 105, 110, 101, 32, 100, 105, 110, 117, 99, 108, 101, 111, 116, 105, 100, 101, 32, 112, 104, 111, 115, 112, 104, 97, 116, 101, 32, 40, 78, 65, 68, 80, 72, 41, 32, 97, 110, 100, 32, 65, 84, 80, 46, 73, 110, 32, 112, 108, 97, 110, 116, 115, 44, 32, 97, 108, 103, 97, 101, 44, 32, 97, 110, 100, 32, 99, 121, 97, 110, 111, 98, 97, 99, 116, 101, 114, 105, 97, 44, 32, 115, 117, 103, 97, 114, 115, 32, 97, 114, 101, 32, 115, 121, 110, 116, 104, 101, 115, 105, 122, 101, 100, 32, 98, 121, 32, 97, 32, 115, 117, 98, 115, 101, 113, 117, 101, 110, 116, 32, 115, 101, 113, 117, 101, 110, 99, 101, 32, 111, 102, 32, 108, 105, 103, 104, 116, 45, 105, 110, 100, 101, 112, 101, 110, 100, 101, 110, 116, 32, 114, 101, 97, 99, 116, 105, 111, 110, 115, 32, 99, 97, 108, 108, 101, 100, 32, 116, 104, 101, 32, 67, 97, 108, 118, 105, 110, 32, 99, 121, 99, 108, 101, 46, 32, 73, 110, 32, 116, 104, 105, 115, 32, 112, 114, 111, 99, 101, 115, 115, 44, 32, 97, 116, 109, 111, 115, 112, 104, 101, 114, 105, 99, 32, 99, 97, 114, 98, 111, 110, 32, 100, 105, 111, 120, 105, 100, 101, 32, 105, 115, 32, 105, 110, 99, 111, 114, 112, 111, 114, 97, 116, 101, 100, 32, 105, 110, 116, 111, 32, 97, 108, 114, 101, 97, 100, 121, 32, 101, 120, 105, 115, 116, 105, 110, 103, 32, 111, 114, 103, 97, 110, 105, 99, 32, 99, 111, 109, 112, 111, 117, 110, 100, 115, 44, 32, 115, 117, 99, 104, 32, 97, 115, 32, 114, 105, 98, 117, 108, 111, 115, 101, 32, 98, 105, 115, 112, 104, 111, 115, 112, 104, 97, 116, 101, 32, 40, 82, 117, 66, 80, 41, 46, 91, 51, 93, 32, 85, 115, 105, 110, 103, 32, 116, 104, 101, 32, 65, 84, 80, 32, 97, 110, 100, 32, 78, 65, 68, 80, 72, 32, 112, 114, 111, 100, 117, 99, 101, 100, 32, 98, 121, 32, 116, 104, 101, 32, 108, 105, 103, 104, 116, 45, 100, 101, 112, 101, 110, 100, 101, 110, 116, 32, 114, 101, 97, 99, 116, 105, 111, 110, 115, 44, 32, 116, 104, 101, 32, 114, 101, 115, 117, 108, 116, 105, 110, 103, 32, 99, 111, 109, 112, 111, 117, 110, 100, 115, 32, 97, 114, 101, 32, 116, 104, 101, 110, 32, 114, 101, 100, 117, 99, 101, 100, 32, 97, 110, 100, 32, 114, 101, 109, 111, 118, 101, 100, 32, 116, 111, 32, 102, 111, 114, 109, 32, 102, 117, 114, 116, 104, 101, 114, 32, 99, 97, 114, 98, 111, 104, 121, 100, 114, 97, 116, 101, 115, 44, 32, 115, 117, 99, 104, 32, 97, 115, 32, 103, 108, 117, 99, 111, 115, 101, 46, 32, 73, 110, 32, 111, 116, 104, 101, 114, 32, 98, 97, 99, 116, 101, 114, 105, 97, 44, 32, 100, 105, 102, 102, 101, 114, 101, 110, 116, 32, 109, 101, 99, 104, 97, 110, 105, 115, 109, 115, 32, 108, 105, 107, 101, 32, 116, 104, 101, 32, 114, 101, 118, 101, 114, 115, 101, 32, 75, 114, 101, 98, 115, 32, 99, 121, 99, 108, 101, 32, 97, 114, 101, 32, 117, 115, 101, 100, 32, 116, 111, 32, 97, 99, 104, 105, 101, 118, 101, 32, 116, 104, 101, 32, 115, 97, 109, 101, 32, 101, 110, 100, 46, 84, 104, 101, 32, 102, 105, 114, 115, 116, 32, 112, 104, 111, 116, 111, 115, 121, 110, 116, 104, 101, 116, 105, 99, 32, 111, 114, 103, 97, 110, 105, 115, 109, 115, 32, 112, 114, 111, 98, 97, 98, 108, 121, 32, 101, 118, 111, 108, 118, 101, 100, 32, 101, 97, 114, 108, 121, 32, 105, 110, 32, 116, 104, 101, 32, 101, 118, 111, 108, 117, 116, 105, 111, 110, 97, 114, 121, 32, 104, 105, 115, 116, 111, 114, 121, 32, 111, 102, 32, 108, 105, 102, 101, 32, 117, 115, 105, 110, 103, 32, 114, 101, 100, 117, 99, 105, 110, 103, 32, 97, 103, 101, 110, 116, 115, 32, 115, 117, 99, 104, 32, 97, 115, 32, 104, 121, 100, 114, 111, 103, 101, 110, 32, 111, 114, 32, 104, 121, 100, 114, 111, 103, 101, 110, 32, 115, 117, 108, 102, 105, 100, 101, 44, 32, 114, 97, 116, 104, 101, 114, 32, 116, 104, 97, 110, 32, 119, 97, 116, 101, 114, 44, 32, 97, 115, 32, 115, 111, 117, 114, 99, 101, 115, 32, 111, 102, 32, 101, 108, 101, 99, 116, 114, 111, 110, 115, 46, 91, 52, 93, 32, 67, 121, 97, 110, 111, 98, 97, 99, 116, 101, 114, 105, 97, 32, 97, 112, 112, 101, 97, 114, 101, 100, 32, 108, 97, 116, 101, 114, 59, 32, 116, 104, 101, 32, 101, 120, 99, 101, 115, 115, 32, 111, 120, 121, 103, 101, 110, 32, 116, 104, 101, 121, 32, 112, 114, 111, 100, 117, 99, 101, 100, 32, 99, 111, 110, 116, 114, 105, 98, 117, 116, 101, 100, 32, 100, 105, 114, 101, 99, 116, 108, 121, 32, 116, 111, 32, 116, 104, 101, 32, 111, 120, 121, 103, 101, 110, 97, 116, 105, 111, 110, 32, 111, 102, 32, 116, 104, 101, 32, 69, 97, 114, 116, 104, 44, 91, 53, 93, 32, 119, 104, 105, 99, 104, 32, 114, 101, 110, 100, 101, 114, 101, 100, 32, 116, 104, 101, 32, 101, 118, 111, 108, 117, 116, 105, 111, 110, 32, 111, 102, 32, 99, 111, 109, 112, 108, 101, 120, 32, 108, 105, 102, 101, 32, 112, 111, 115, 115, 105, 98, 108, 101, 46, 32, 84, 104, 101, 32, 97, 118, 101, 114, 97, 103, 101, 32, 114, 97, 116, 101, 32, 111, 102, 32, 101, 110, 101, 114, 103, 121, 32, 99, 97, 112, 116, 117, 114, 101, 100, 32, 98, 121, 32, 103, 108, 111, 98, 97, 108, 32, 112, 104, 111, 116, 111, 115, 121, 110, 116, 104, 101, 115, 105, 115, 32, 105, 115, 32, 97, 112, 112, 114, 111, 120, 105, 109, 97, 116, 101, 108, 121, 32, 49, 51, 48, 32, 116, 101, 114, 97, 119, 97, 116, 116, 115, 44, 91, 54, 93, 91, 55, 93, 91, 56, 93, 32, 119, 104, 105, 99, 104, 32, 105, 115, 32, 97, 98, 111, 117, 116, 32, 101, 105, 103, 104, 116, 32, 116, 105, 109, 101, 115, 32, 116, 104, 101, 32, 116, 111, 116, 97, 108, 32, 112, 111, 119, 101, 114, 32, 99, 111, 110, 115, 117, 109, 112, 116, 105, 111, 110, 32, 111, 102, 32, 104, 117, 109, 97, 110, 32, 99, 105, 118, 105, 108, 105, 122, 97, 116, 105, 111, 110, 46, 91, 57, 93, 32, 80, 104, 111, 116, 111, 115, 121, 110, 116, 104, 101, 116, 105, 99, 32, 111, 114, 103, 97, 110, 105, 115, 109, 115, 32, 97, 108, 115, 111, 32, 99, 111, 110, 118, 101, 114, 116, 32, 97, 114, 111, 117, 110, 100, 32, 49, 48, 48, 226, 128, 147, 49, 49, 53, 32, 98, 105, 108, 108, 105, 111, 110, 32, 116, 111, 110, 115, 32, 40, 57, 49, 226, 128, 147, 49, 48, 52, 32, 80, 103, 32, 112, 101, 116, 97, 103, 114, 97, 109, 115, 44, 32, 111, 114, 32, 98, 105, 108, 108, 105, 111, 110, 115, 32, 111, 102, 32, 109, 101, 116, 114, 105, 99, 32, 116, 111, 110, 115, 41, 44, 32, 111, 102, 32, 99, 97, 114, 98, 111, 110, 32, 105, 110, 116, 111, 32, 98, 105, 111, 109, 97, 115, 115, 32, 112, 101, 114, 32, 121, 101, 97, 114, 46, 91, 49, 48, 93, 91, 49, 49, 93, 32, 80, 104, 111, 116, 111, 115, 121, 110, 116, 104, 101, 115, 105, 115, 32, 119, 97, 115, 32, 100, 105, 115, 99, 111, 118, 101, 114, 101, 100, 32, 105, 110, 32, 49, 55, 55, 57, 32, 98, 121, 32, 74, 97, 110, 32, 73, 110, 103, 101, 110, 104, 111, 117, 115, 122, 32, 119, 104, 111, 32, 115, 104, 111, 119, 101, 100, 32, 116, 104, 97, 116, 32, 112, 108, 97, 110, 116, 115, 32, 110, 101, 101, 100, 32, 108, 105, 103, 104, 116, 44, 32, 110, 111, 116, 32, 106, 117, 115, 116, 32, 115, 111, 105, 108, 32, 97, 110, 100, 32, 119, 97, 116, 101, 114, 46]\n",
      "length 3687\n"
     ]
    }
   ],
   "source": [
    "# \n",
    "# text= \"\"\"Photosynthesis is a system of biological processes by which photosynthetic organisms, such as most plants, algae, and cyanobacteria, convert light energy, typically from sunlight, into the chemical energy necessary to fuel their metabolism. Photosynthesis usually refers to oxygenic photosynthesis, a process that produces oxygen. Photosynthetic organisms store the chemical energy so produced within intracellular organic compounds (compounds containing carbon) like sugars, glycogen, cellulose and starches. To use this stored chemical energy, an organism's cells metabolize the organic compounds through cellular respiration. Photosynthesis plays a critical role in producing and maintaining the oxygen content of the Earth's atmosphere, and it supplies most of the biological energy necessary for complex life on Earth.[2]Some bacteria also perform anoxygenic photosynthesis, which uses bacteriochlorophyll to split hydrogen sulfide as a reductant instead of water, producing sulfur instead of oxygen. Archaea such as Halobacterium also perform a type of non-carbon-fixing anoxygenic photosynthesis, where the simpler photopigment retinal and its microbial rhodopsin derivatives are used to absorb green light and power proton pumps to directly synthesize adenosine triphosphate (ATP), the \"energy currency\" of cells. Such archaeal photosynthesis might have been the earliest form of photosynthesis that evolved on Earth, as far back as the Paleoarchean, preceding that of cyanobacteria (see Purple Earth hypothesis).While the details may differ between species, the process always begins when light energy is absorbed by the reaction centers, proteins that contain photosynthetic pigments or chromophores. In plants, these pigments are chlorophylls (a porphyrin derivative that absorbs the red and blue spectrums of light, thus reflecting green) held inside chloroplasts, abundant in leaf cells. In bacteria, they are embedded in the plasma membrane. In these light-dependent reactions, some energy is used to strip electrons from suitable substances, such as water, producing oxygen gas. The hydrogen freed by the splitting of water is used in the creation of two important molecules that participate in energetic processes: reduced nicotinamide adenine dinucleotide phosphate (NADPH) and ATP.In plants, algae, and cyanobacteria, sugars are synthesized by a subsequent sequence of light-independent reactions called the Calvin cycle. In this process, atmospheric carbon dioxide is incorporated into already existing organic compounds, such as ribulose bisphosphate (RuBP).[3] Using the ATP and NADPH produced by the light-dependent reactions, the resulting compounds are then reduced and removed to form further carbohydrates, such as glucose. In other bacteria, different mechanisms like the reverse Krebs cycle are used to achieve the same end.The first photosynthetic organisms probably evolved early in the evolutionary history of life using reducing agents such as hydrogen or hydrogen sulfide, rather than water, as sources of electrons.[4] Cyanobacteria appeared later; the excess oxygen they produced contributed directly to the oxygenation of the Earth,[5] which rendered the evolution of complex life possible. The average rate of energy captured by global photosynthesis is approximately 130 terawatts,[6][7][8] which is about eight times the total power consumption of human civilization.[9] Photosynthetic organisms also convert around 100–115 billion tons (91–104 Pg petagrams, or billions of metric tons), of carbon into biomass per year.[10][11] Photosynthesis was discovered in 1779 by Jan Ingenhousz who showed that plants need light, not just soil and water.\"\"\"\n",
    "base_vocabulary = list(set(text))\n",
    "print(\"text length: \", len(text))\n",
    "print(\"base vocab length: \", len(base_vocabulary)) # unique chars\n",
    "print(text)\n",
    "print(\"-----------\")\n",
    "tokens= text.encode(\"utf-8\") #raw bytes\n",
    "tokens= list(map(int, tokens)) # convert to the list of integers in range 0..255\n",
    "print(tokens)\n",
    "print(\"length\", len(tokens))"
   ]
  },
  {
   "cell_type": "code",
   "execution_count": 44,
   "metadata": {},
   "outputs": [
    {
     "name": "stdout",
     "output_type": "stream",
     "text": [
      "[(81, (101, 32)), (74, (116, 104)), (72, (115, 32)), (69, (104, 101)), (65, (32, 116)), (60, (32, 97)), (51, (101, 110)), (50, (101, 114)), (45, (110, 32)), (45, (105, 110)), (45, (32, 112)), (44, (110, 116)), (43, (114, 101)), (43, (100, 32)), (42, (32, 111)), (41, (97, 110)), (40, (101, 115)), (40, (32, 99)), (39, (44, 32)), (35, (116, 111)), (35, (32, 115)), (33, (116, 32)), (33, (101, 100)), (33, (97, 114)), (32, (114, 111)), (32, (111, 110)), (31, (116, 101)), (31, (105, 115)), (31, (97, 116)), (30, (111, 114)), (29, (121, 32)), (29, (116, 105)), (28, (105, 99)), (27, (111, 115)), (25, (110, 100)), (25, (99, 101)), (25, (32, 105)), (24, (111, 116)), (24, (104, 111)), (24, (99, 104)), (24, (97, 108)), (23, (108, 105)), (22, (112, 104)), (22, (102, 32)), (22, (32, 114)), (22, (32, 101)), (22, (32, 98)), (21, (111, 102)), (20, (117, 99)), (20, (115, 105)), (20, (99, 116)), (19, (115, 117)), (19, (115, 44)), (19, (114, 105)), (19, (111, 32)), (19, (108, 101)), (19, (100, 101)), (19, (99, 111)), (18, (115, 121)), (18, (114, 103)), (18, (114, 32)), (18, (105, 111)), (18, (103, 101)), (17, (121, 110)), (17, (115, 101)), (17, (112, 114)), (16, (115, 116)), (16, (110, 105)), (16, (110, 101)), (16, (101, 97)), (16, (97, 99)), (15, (110, 103)), (15, (104, 97)), (15, (103, 32)), (15, (97, 115)), (15, (32, 108)), (14, (112, 108)), (14, (110, 115)), (14, (108, 32)), (14, (105, 103)), (14, (99, 97)), (14, (99, 32)), (14, (32, 119)), (13, (116, 97)), (13, (111, 109)), (13, (108, 108)), (13, (104, 32)), (13, (103, 97)), (13, (101, 116)), (13, (46, 32)), (12, (118, 101)), (12, (112, 111)), (12, (109, 101)), (12, (103, 104)), (12, (101, 99)), (12, (98, 97)), (12, (97, 32)), (12, (32, 109)), (11, (117, 115)), (11, (115, 112)), (11, (112, 101)), (11, (111, 120)), (11, (109, 112)), (11, (104, 116)), (11, (101, 108)), (11, (100, 117)), (10, (116, 115)), (10, (115, 115)), (10, (115, 111)), (10, (114, 116)), (10, (114, 97)), (10, (111, 117)), (10, (111, 108)), (10, (108, 97)), (10, (104, 105)), (10, (32, 102)), (10, (32, 100)), (9, (121, 103)), (9, (120, 121)), (9, (117, 108)), (9, (110, 111)), (9, (108, 111)), (9, (104, 121)), (9, (103, 121)), (9, (97, 98)), (9, (32, 104)), (8, (119, 97)), (8, (117, 110)), (8, (116, 114)), (8, (115, 109)), (8, (114, 98)), (8, (111, 100)), (8, (111, 98)), (8, (109, 32)), (8, (108, 121)), (8, (108, 115)), (8, (105, 97)), (8, (100, 105)), (8, (98, 111)), (8, (32, 117)), (8, (32, 80)), (7, (119, 104)), (7, (111, 103)), (7, (109, 115)), (7, (109, 111)), (7, (108, 117)), (7, (105, 116)), (7, (101, 109)), (7, (101, 101)), (7, (99, 105)), (7, (98, 121)), (7, (98, 115)), (7, (98, 105)), (7, (73, 110)), (7, (32, 40)), (6, (117, 114)), (6, (115, 46)), (6, (114, 115)), (6, (111, 112)), (6, (111, 99)), (6, (109, 105)), (6, (109, 97)), (6, (105, 108)), (6, (105, 100)), (6, (102, 101)), (6, (101, 118)), (6, (99, 121)), (6, (93, 32)), (6, (80, 104)), (6, (32, 110)), (6, (32, 103)), (6, (32, 73)), (5, (121, 100)), (5, (117, 109)), (5, (114, 99)), (5, (112, 105)), (5, (105, 118)), (5, (105, 114)), (5, (105, 102)), (5, (102, 111)), (5, (100, 115)), (5, (100, 114)), (5, (98, 101)), (5, (97, 105)), (5, (97, 100)), (5, (69, 97)), (5, (46, 91)), (5, (32, 69)), (4, (121, 97)), (4, (120, 105)), (4, (119, 101)), (4, (118, 111)), (4, (117, 116)), (4, (117, 101)), (4, (114, 121)), (4, (114, 109)), (4, (110, 99)), (4, (110, 97)), (4, (110, 46)), (4, (105, 122)), (4, (105, 109)), (4, (105, 101)), (4, (102, 105)), (4, (101, 120)), (4, (101, 46)), (4, (101, 44)), (4, (98, 108)), (4, (97, 101)), (4, (97, 44)), (3, (122, 101)), (3, (121, 115)), (3, (121, 112)), (3, (121, 99)), (3, (117, 103)), (3, (116, 45)), (3, (116, 44)), (3, (115, 97)), (3, (114, 112)), (3, (114, 44)), (3, (112, 112)), (3, (111, 119)), (3, (108, 118)), (3, (108, 102)), (3, (105, 112)), (3, (105, 98)), (3, (104, 108)), (3, (103, 114)), (3, (103, 109)), (3, (103, 108)), (3, (103, 105)), (3, (102, 117)), (3, (102, 114)), (3, (101, 112)), (3, (101, 105)), (3, (99, 114)), (3, (99, 108)), (3, (98, 117)), (3, (97, 121)), (3, (97, 112)), (3, (97, 109)), (3, (97, 103)), (3, (93, 91)), (3, (84, 104)), (3, (84, 80)), (3, (65, 84)), (3, (49, 48)), (3, (41, 32)), (3, (32, 84)), (3, (32, 65)), (3, (32, 49)), (2, (226, 128)), (2, (147, 49)), (2, (128, 147)), (2, (121, 108)), (2, (121, 44)), (2, (120, 32)), (2, (118, 105)), (2, (118, 97)), (2, (117, 98)), (2, (116, 121)), (2, (116, 119)), (2, (116, 116)), (2, (116, 109)), (2, (116, 108)), (2, (115, 41)), (2, (114, 108)), (2, (114, 102)), (2, (114, 46)), (2, (113, 117)), (2, (112, 116)), (2, (112, 115)), (2, (112, 97)), (2, (111, 118)), (2, (110, 118)), (2, (110, 45)), (2, (110, 44)), (2, (110, 41)), (2, (109, 98)), (2, (108, 103)), (2, (107, 101)), (2, (105, 107)), (2, (104, 117)), (2, (104, 114)), (2, (104, 44)), (2, (102, 102)), (2, (101, 121)), (2, (101, 113)), (2, (101, 111)), (2, (101, 102)), (2, (99, 117)), (2, (97, 118)), (2, (91, 49)), (2, (80, 72)), (2, (80, 41)), (2, (78, 65)), (2, (68, 80)), (2, (65, 68)), (2, (49, 49)), (2, (45, 100)), (2, (44, 91)), (2, (41, 46)), (2, (41, 44)), (2, (39, 115)), (2, (32, 67)), (1, (122, 97)), (1, (122, 32)), (1, (121, 114)), (1, (121, 101)), (1, (121, 34)), (1, (120, 99)), (1, (119, 111)), (1, (119, 105)), (1, (117, 112)), (1, (117, 105)), (1, (117, 97)), (1, (117, 66)), (1, (116, 117)), (1, (115, 122)), (1, (115, 104)), (1, (115, 99)), (1, (115, 58)), (1, (114, 117)), (1, (114, 114)), (1, (114, 104)), (1, (114, 59)), (1, (112, 117)), (1, (112, 32)), (1, (111, 105)), (1, (111, 104)), (1, (111, 97)), (1, (110, 117)), (1, (110, 108)), (1, (110, 104)), (1, (109, 46)), (1, (109, 39)), (1, (108, 119)), (1, (108, 116)), (1, (108, 114)), (1, (108, 100)), (1, (107, 32)), (1, (106, 117)), (1, (105, 120)), (1, (105, 117)), (1, (104, 46)), (1, (104, 39)), (1, (102, 108)), (1, (102, 97)), (1, (101, 103)), (1, (101, 98)), (1, (100, 121)), (1, (100, 111)), (1, (100, 100)), (1, (100, 97)), (1, (100, 46)), (1, (99, 107)), (1, (98, 114)), (1, (98, 32)), (1, (97, 119)), (1, (97, 102)), (1, (93, 83)), (1, (91, 57)), (1, (91, 56)), (1, (91, 55)), (1, (91, 54)), (1, (91, 53)), (1, (91, 52)), (1, (91, 51)), (1, (91, 50)), (1, (87, 104)), (1, (85, 115)), (1, (84, 111)), (1, (83, 117)), (1, (83, 111)), (1, (82, 117)), (1, (80, 117)), (1, (80, 103)), (1, (80, 97)), (1, (80, 46)), (1, (80, 32)), (1, (75, 114)), (1, (74, 97)), (1, (72, 97)), (1, (72, 41)), (1, (72, 32)), (1, (67, 121)), (1, (67, 97)), (1, (66, 80)), (1, (65, 114)), (1, (59, 32)), (1, (58, 32)), (1, (57, 93)), (1, (57, 49)), (1, (57, 32)), (1, (56, 93)), (1, (55, 93)), (1, (55, 57)), (1, (55, 55)), (1, (54, 93)), (1, (53, 93)), (1, (53, 32)), (1, (52, 93)), (1, (52, 32)), (1, (51, 93)), (1, (51, 48)), (1, (50, 93)), (1, (49, 226)), (1, (49, 93)), (1, (49, 55)), (1, (49, 53)), (1, (49, 51)), (1, (48, 226)), (1, (48, 93)), (1, (48, 52)), (1, (48, 48)), (1, (48, 32)), (1, (46, 87)), (1, (46, 84)), (1, (46, 73)), (1, (45, 105)), (1, (45, 102)), (1, (45, 99)), (1, (40, 115)), (1, (40, 99)), (1, (40, 97)), (1, (40, 82)), (1, (40, 78)), (1, (40, 65)), (1, (40, 57)), (1, (34, 101)), (1, (34, 32)), (1, (32, 121)), (1, (32, 106)), (1, (32, 85)), (1, (32, 83)), (1, (32, 78)), (1, (32, 75)), (1, (32, 74)), (1, (32, 72)), (1, (32, 34))]\n"
     ]
    }
   ],
   "source": [
    "# common pair of text/bytes (new, newer, newest --> ne -> )\n",
    "def get_frequent_pairs(ids):\n",
    "    counts={}\n",
    "    for pair in list(zip(ids, ids[1:])):\n",
    "        # counts[pair] = counts.get(pair, 0) + 1\n",
    "        if pair in counts:\n",
    "            counts[pair]+=1\n",
    "        else:\n",
    "            counts[pair]=1\n",
    "    return counts\n",
    "\n",
    "freq_pairs= get_frequent_pairs(tokens)\n",
    "# print(freq_pairs)\n",
    "print(sorted({(v, k) for k, v in freq_pairs.items()}, reverse=True)) #sorted, max times occured pair"
   ]
  },
  {
   "cell_type": "code",
   "execution_count": 45,
   "metadata": {},
   "outputs": [
    {
     "data": {
      "text/plain": [
       "('e', ' ')"
      ]
     },
     "execution_count": 45,
     "metadata": {},
     "output_type": "execute_result"
    }
   ],
   "source": [
    "chr(101), chr(32)"
   ]
  },
  {
   "cell_type": "code",
   "execution_count": 48,
   "metadata": {},
   "outputs": [
    {
     "data": {
      "text/plain": [
       "(101, 32)"
      ]
     },
     "execution_count": 48,
     "metadata": {},
     "output_type": "execute_result"
    }
   ],
   "source": [
    "max(freq_pairs, key=freq_pairs.get) #search max element in dict based on value"
   ]
  },
  {
   "cell_type": "code",
   "execution_count": 52,
   "metadata": {},
   "outputs": [
    {
     "name": "stdout",
     "output_type": "stream",
     "text": [
      "[5, 88, 7, 9, 1]\n"
     ]
    }
   ],
   "source": [
    "#search the max/ more frequent character, merge the most frequent characters togethera\n",
    "\n",
    "def merge(ids, pair, idx):\n",
    "    #in the list of ints(ids), replace all consecutive occurances of pair with new token indx\n",
    "    newids=[]\n",
    "    i=0 \n",
    "    while i < len(ids):\n",
    "        #if we are notthe very last position and the pair matches, replace it\n",
    "        if i < len(ids)-1 and ids[i] == pair[0] and ids[i+1]:\n",
    "            newids.append(idx)\n",
    "            i += 2\n",
    "        else:\n",
    "            newids.append(ids[i])\n",
    "            i += 1 \n",
    "    return newids\n",
    "\n",
    "print(merge([5,6,6,7,9,1], (6,7), 88))"
   ]
  },
  {
   "cell_type": "code",
   "execution_count": 54,
   "metadata": {},
   "outputs": [],
   "source": [
    "tokens2= merge(tokens, pair= (101, 32), idx=256)"
   ]
  },
  {
   "cell_type": "code",
   "execution_count": 56,
   "metadata": {},
   "outputs": [
    {
     "name": "stdout",
     "output_type": "stream",
     "text": [
      "[80, 104, 111, 116, 111, 115, 121, 110, 116, 104, 256, 105, 115, 32, 105, 115, 32, 97, 32, 115, 121, 115, 116, 256, 32, 111, 102, 32, 98, 105, 111, 108, 111, 103, 105, 99, 97, 108, 32, 112, 114, 111, 99, 256, 115, 256, 32, 98, 121, 32, 119, 104, 105, 99, 104, 32, 112, 104, 111, 116, 111, 115, 121, 110, 116, 104, 256, 105, 99, 32, 111, 114, 103, 97, 110, 105, 115, 109, 115, 44, 32, 115, 117, 99, 104, 32, 97, 115, 32, 109, 111, 115, 116, 32, 112, 108, 97, 110, 116, 115, 44, 32, 97, 108, 103, 97, 256, 32, 97, 110, 100, 32, 99, 121, 97, 110, 111, 98, 97, 99, 116, 256, 105, 97, 44, 32, 99, 111, 110, 118, 256, 116, 32, 108, 105, 103, 104, 116, 32, 256, 256, 103, 121, 44, 32, 116, 121, 112, 105, 99, 97, 108, 108, 121, 32, 102, 114, 111, 109, 32, 115, 117, 110, 108, 105, 103, 104, 116, 44, 32, 105, 110, 116, 111, 32, 116, 104, 256, 99, 104, 256, 105, 99, 97, 108, 32, 256, 256, 103, 121, 32, 110, 256, 256, 115, 97, 114, 121, 32, 116, 111, 32, 102, 117, 256, 32, 116, 104, 256, 114, 32, 109, 256, 97, 98, 111, 108, 105, 115, 109, 46, 32, 80, 104, 111, 116, 111, 115, 121, 110, 116, 104, 256, 105, 115, 32, 117, 115, 117, 97, 108, 108, 121, 32, 114, 256, 256, 115, 32, 116, 111, 32, 111, 120, 121, 103, 256, 105, 99, 32, 112, 104, 111, 116, 111, 115, 121, 110, 116, 104, 256, 105, 115, 44, 32, 97, 32, 112, 114, 111, 99, 256, 115, 32, 116, 104, 97, 116, 32, 112, 114, 111, 100, 117, 99, 256, 32, 111, 120, 121, 103, 256, 46, 32, 80, 104, 111, 116, 111, 115, 121, 110, 116, 104, 256, 105, 99, 32, 111, 114, 103, 97, 110, 105, 115, 109, 115, 32, 115, 116, 111, 114, 256, 116, 104, 256, 99, 104, 256, 105, 99, 97, 108, 32, 256, 256, 103, 121, 32, 115, 111, 32, 112, 114, 111, 100, 117, 99, 256, 32, 119, 105, 116, 104, 105, 110, 32, 105, 110, 116, 114, 97, 99, 256, 108, 117, 108, 97, 114, 32, 111, 114, 103, 97, 110, 105, 99, 32, 99, 111, 109, 112, 111, 117, 110, 100, 115, 32, 40, 99, 111, 109, 112, 111, 117, 110, 100, 115, 32, 99, 111, 110, 116, 97, 105, 110, 105, 110, 103, 32, 99, 97, 114, 98, 111, 110, 41, 32, 108, 105, 107, 256, 115, 117, 103, 97, 114, 115, 44, 32, 103, 108, 121, 99, 111, 103, 256, 44, 32, 99, 256, 108, 117, 108, 111, 115, 256, 97, 110, 100, 32, 115, 116, 97, 114, 99, 104, 256, 46, 32, 84, 111, 32, 117, 115, 256, 116, 104, 105, 115, 32, 115, 116, 111, 114, 256, 32, 99, 104, 256, 105, 99, 97, 108, 32, 256, 256, 103, 121, 44, 32, 97, 110, 32, 111, 114, 103, 97, 110, 105, 115, 109, 39, 115, 32, 99, 256, 108, 115, 32, 109, 256, 97, 98, 111, 108, 105, 122, 256, 116, 104, 256, 111, 114, 103, 97, 110, 105, 99, 32, 99, 111, 109, 112, 111, 117, 110, 100, 115, 32, 116, 104, 114, 111, 117, 103, 104, 32, 99, 256, 108, 117, 108, 97, 114, 32, 114, 256, 112, 105, 114, 97, 116, 105, 111, 110, 46, 32, 80, 104, 111, 116, 111, 115, 121, 110, 116, 104, 256, 105, 115, 32, 112, 108, 97, 121, 115, 32, 97, 32, 99, 114, 105, 116, 105, 99, 97, 108, 32, 114, 111, 108, 256, 105, 110, 32, 112, 114, 111, 100, 117, 99, 105, 110, 103, 32, 97, 110, 100, 32, 109, 97, 105, 110, 116, 97, 105, 110, 105, 110, 103, 32, 116, 104, 256, 111, 120, 121, 103, 256, 32, 99, 111, 110, 116, 256, 116, 32, 111, 102, 32, 116, 104, 256, 69, 97, 114, 116, 104, 39, 115, 32, 97, 116, 109, 111, 115, 112, 104, 256, 256, 32, 97, 110, 100, 32, 105, 116, 32, 115, 117, 112, 112, 108, 105, 256, 32, 109, 111, 115, 116, 32, 111, 102, 32, 116, 104, 256, 98, 105, 111, 108, 111, 103, 105, 99, 97, 108, 32, 256, 256, 103, 121, 32, 110, 256, 256, 115, 97, 114, 121, 32, 102, 111, 114, 32, 99, 111, 109, 112, 108, 256, 32, 108, 105, 102, 256, 111, 110, 32, 69, 97, 114, 116, 104, 46, 91, 50, 93, 83, 111, 109, 256, 98, 97, 99, 116, 256, 105, 97, 32, 97, 108, 115, 111, 32, 112, 256, 102, 111, 114, 109, 32, 97, 110, 111, 120, 121, 103, 256, 105, 99, 32, 112, 104, 111, 116, 111, 115, 121, 110, 116, 104, 256, 105, 115, 44, 32, 119, 104, 105, 99, 104, 32, 117, 115, 256, 32, 98, 97, 99, 116, 256, 105, 111, 99, 104, 108, 111, 114, 111, 112, 104, 121, 108, 108, 32, 116, 111, 32, 115, 112, 108, 105, 116, 32, 104, 121, 100, 114, 111, 103, 256, 32, 115, 117, 108, 102, 105, 100, 256, 97, 115, 32, 97, 32, 114, 256, 117, 99, 116, 97, 110, 116, 32, 105, 110, 115, 116, 256, 100, 32, 111, 102, 32, 119, 97, 116, 256, 44, 32, 112, 114, 111, 100, 117, 99, 105, 110, 103, 32, 115, 117, 108, 102, 117, 114, 32, 105, 110, 115, 116, 256, 100, 32, 111, 102, 32, 111, 120, 121, 103, 256, 46, 32, 65, 114, 99, 104, 97, 256, 32, 115, 117, 99, 104, 32, 97, 115, 32, 72, 97, 108, 111, 98, 97, 99, 116, 256, 105, 117, 109, 32, 97, 108, 115, 111, 32, 112, 256, 102, 111, 114, 109, 32, 97, 32, 116, 121, 112, 256, 111, 102, 32, 110, 111, 110, 45, 99, 97, 114, 98, 111, 110, 45, 102, 105, 120, 105, 110, 103, 32, 97, 110, 111, 120, 121, 103, 256, 105, 99, 32, 112, 104, 111, 116, 111, 115, 121, 110, 116, 104, 256, 105, 115, 44, 32, 119, 104, 256, 256, 116, 104, 256, 115, 105, 109, 112, 108, 256, 32, 112, 104, 111, 116, 111, 112, 105, 103, 109, 256, 116, 32, 114, 256, 105, 110, 97, 108, 32, 97, 110, 100, 32, 105, 116, 115, 32, 109, 105, 99, 114, 111, 98, 105, 97, 108, 32, 114, 104, 111, 100, 111, 112, 115, 105, 110, 32, 100, 256, 105, 118, 97, 116, 105, 118, 256, 32, 97, 114, 256, 117, 115, 256, 32, 116, 111, 32, 97, 98, 115, 111, 114, 98, 32, 103, 114, 256, 110, 32, 108, 105, 103, 104, 116, 32, 97, 110, 100, 32, 112, 111, 119, 256, 32, 112, 114, 111, 116, 111, 110, 32, 112, 117, 109, 112, 115, 32, 116, 111, 32, 100, 105, 114, 256, 116, 108, 121, 32, 115, 121, 110, 116, 104, 256, 105, 122, 256, 97, 100, 256, 111, 115, 105, 110, 256, 116, 114, 105, 112, 104, 111, 115, 112, 104, 97, 116, 256, 40, 65, 84, 80, 41, 44, 32, 116, 104, 256, 34, 256, 256, 103, 121, 32, 99, 117, 114, 114, 256, 99, 121, 34, 32, 111, 102, 32, 99, 256, 108, 115, 46, 32, 83, 117, 99, 104, 32, 97, 114, 99, 104, 97, 256, 108, 32, 112, 104, 111, 116, 111, 115, 121, 110, 116, 104, 256, 105, 115, 32, 109, 105, 103, 104, 116, 32, 104, 97, 118, 256, 98, 256, 110, 32, 116, 104, 256, 256, 114, 108, 105, 256, 116, 32, 102, 111, 114, 109, 32, 111, 102, 32, 112, 104, 111, 116, 111, 115, 121, 110, 116, 104, 256, 105, 115, 32, 116, 104, 97, 116, 32, 256, 111, 108, 118, 256, 32, 111, 110, 32, 69, 97, 114, 116, 104, 44, 32, 97, 115, 32, 102, 97, 114, 32, 98, 97, 99, 107, 32, 97, 115, 32, 116, 104, 256, 80, 97, 108, 256, 97, 114, 99, 104, 256, 110, 44, 32, 112, 114, 256, 256, 105, 110, 103, 32, 116, 104, 97, 116, 32, 111, 102, 32, 99, 121, 97, 110, 111, 98, 97, 99, 116, 256, 105, 97, 32, 40, 115, 256, 32, 80, 117, 114, 112, 108, 256, 69, 97, 114, 116, 104, 32, 104, 121, 112, 111, 116, 104, 256, 105, 115, 41, 46, 87, 104, 105, 108, 256, 116, 104, 256, 100, 256, 97, 105, 108, 115, 32, 109, 97, 121, 32, 100, 105, 102, 102, 256, 32, 98, 256, 119, 256, 110, 32, 115, 112, 256, 105, 256, 44, 32, 116, 104, 256, 112, 114, 111, 99, 256, 115, 32, 97, 108, 119, 97, 121, 115, 32, 98, 256, 105, 110, 115, 32, 119, 104, 256, 32, 108, 105, 103, 104, 116, 32, 256, 256, 103, 121, 32, 105, 115, 32, 97, 98, 115, 111, 114, 98, 256, 32, 98, 121, 32, 116, 104, 256, 114, 256, 99, 116, 105, 111, 110, 32, 99, 256, 116, 256, 115, 44, 32, 112, 114, 111, 116, 256, 110, 115, 32, 116, 104, 97, 116, 32, 99, 111, 110, 116, 97, 105, 110, 32, 112, 104, 111, 116, 111, 115, 121, 110, 116, 104, 256, 105, 99, 32, 112, 105, 103, 109, 256, 116, 115, 32, 111, 114, 32, 99, 104, 114, 111, 109, 111, 112, 104, 111, 114, 256, 46, 32, 73, 110, 32, 112, 108, 97, 110, 116, 115, 44, 32, 116, 104, 256, 256, 112, 105, 103, 109, 256, 116, 115, 32, 97, 114, 256, 99, 104, 108, 111, 114, 111, 112, 104, 121, 108, 108, 115, 32, 40, 97, 32, 112, 111, 114, 112, 104, 121, 114, 105, 110, 32, 100, 256, 105, 118, 97, 116, 105, 118, 256, 116, 104, 97, 116, 32, 97, 98, 115, 111, 114, 98, 115, 32, 116, 104, 256, 114, 256, 32, 97, 110, 100, 32, 98, 108, 117, 256, 115, 112, 256, 116, 114, 117, 109, 115, 32, 111, 102, 32, 108, 105, 103, 104, 116, 44, 32, 116, 104, 117, 115, 32, 114, 256, 108, 256, 116, 105, 110, 103, 32, 103, 114, 256, 110, 41, 32, 104, 256, 100, 32, 105, 110, 115, 105, 100, 256, 99, 104, 108, 111, 114, 111, 112, 108, 97, 115, 116, 115, 44, 32, 97, 98, 117, 110, 100, 97, 110, 116, 32, 105, 110, 32, 108, 256, 102, 32, 99, 256, 108, 115, 46, 32, 73, 110, 32, 98, 97, 99, 116, 256, 105, 97, 44, 32, 116, 104, 256, 32, 97, 114, 256, 256, 98, 256, 100, 256, 32, 105, 110, 32, 116, 104, 256, 112, 108, 97, 115, 109, 97, 32, 109, 256, 98, 114, 97, 110, 256, 32, 73, 110, 32, 116, 104, 256, 256, 108, 105, 103, 104, 116, 45, 100, 256, 256, 100, 256, 116, 32, 114, 256, 99, 116, 105, 111, 110, 115, 44, 32, 115, 111, 109, 256, 256, 256, 103, 121, 32, 105, 115, 32, 117, 115, 256, 32, 116, 111, 32, 115, 116, 114, 105, 112, 32, 256, 256, 116, 114, 111, 110, 115, 32, 102, 114, 111, 109, 32, 115, 117, 105, 116, 97, 98, 108, 256, 115, 117, 98, 115, 116, 97, 110, 99, 256, 44, 32, 115, 117, 99, 104, 32, 97, 115, 32, 119, 97, 116, 256, 44, 32, 112, 114, 111, 100, 117, 99, 105, 110, 103, 32, 111, 120, 121, 103, 256, 32, 103, 97, 115, 46, 32, 84, 104, 256, 104, 121, 100, 114, 111, 103, 256, 32, 102, 114, 256, 100, 32, 98, 121, 32, 116, 104, 256, 115, 112, 108, 105, 116, 116, 105, 110, 103, 32, 111, 102, 32, 119, 97, 116, 256, 32, 105, 115, 32, 117, 115, 256, 32, 105, 110, 32, 116, 104, 256, 99, 114, 256, 116, 105, 111, 110, 32, 111, 102, 32, 116, 119, 111, 32, 105, 109, 112, 111, 114, 116, 97, 110, 116, 32, 109, 111, 108, 256, 117, 108, 256, 32, 116, 104, 97, 116, 32, 112, 97, 114, 116, 105, 99, 105, 112, 97, 116, 256, 105, 110, 32, 256, 256, 103, 256, 105, 99, 32, 112, 114, 111, 99, 256, 115, 256, 58, 32, 114, 256, 117, 99, 256, 32, 110, 105, 99, 111, 116, 105, 110, 97, 109, 105, 100, 256, 97, 100, 256, 105, 110, 256, 100, 105, 110, 117, 99, 108, 256, 116, 105, 100, 256, 112, 104, 111, 115, 112, 104, 97, 116, 256, 40, 78, 65, 68, 80, 72, 41, 32, 97, 110, 100, 32, 65, 84, 80, 46, 73, 110, 32, 112, 108, 97, 110, 116, 115, 44, 32, 97, 108, 103, 97, 256, 32, 97, 110, 100, 32, 99, 121, 97, 110, 111, 98, 97, 99, 116, 256, 105, 97, 44, 32, 115, 117, 103, 97, 114, 115, 32, 97, 114, 256, 115, 121, 110, 116, 104, 256, 105, 122, 256, 32, 98, 121, 32, 97, 32, 115, 117, 98, 115, 256, 117, 256, 116, 32, 115, 256, 117, 256, 99, 256, 111, 102, 32, 108, 105, 103, 104, 116, 45, 105, 110, 100, 256, 256, 100, 256, 116, 32, 114, 256, 99, 116, 105, 111, 110, 115, 32, 99, 97, 108, 108, 256, 32, 116, 104, 256, 67, 97, 108, 118, 105, 110, 32, 99, 121, 99, 108, 256, 32, 73, 110, 32, 116, 104, 105, 115, 32, 112, 114, 111, 99, 256, 115, 44, 32, 97, 116, 109, 111, 115, 112, 104, 256, 105, 99, 32, 99, 97, 114, 98, 111, 110, 32, 100, 105, 111, 120, 105, 100, 256, 105, 115, 32, 105, 110, 99, 111, 114, 112, 111, 114, 97, 116, 256, 32, 105, 110, 116, 111, 32, 97, 108, 114, 256, 100, 121, 32, 256, 105, 115, 116, 105, 110, 103, 32, 111, 114, 103, 97, 110, 105, 99, 32, 99, 111, 109, 112, 111, 117, 110, 100, 115, 44, 32, 115, 117, 99, 104, 32, 97, 115, 32, 114, 105, 98, 117, 108, 111, 115, 256, 98, 105, 115, 112, 104, 111, 115, 112, 104, 97, 116, 256, 40, 82, 117, 66, 80, 41, 46, 91, 51, 93, 32, 85, 115, 105, 110, 103, 32, 116, 104, 256, 65, 84, 80, 32, 97, 110, 100, 32, 78, 65, 68, 80, 72, 32, 112, 114, 111, 100, 117, 99, 256, 32, 98, 121, 32, 116, 104, 256, 108, 105, 103, 104, 116, 45, 100, 256, 256, 100, 256, 116, 32, 114, 256, 99, 116, 105, 111, 110, 115, 44, 32, 116, 104, 256, 114, 256, 117, 108, 116, 105, 110, 103, 32, 99, 111, 109, 112, 111, 117, 110, 100, 115, 32, 97, 114, 256, 116, 104, 256, 32, 114, 256, 117, 99, 256, 32, 97, 110, 100, 32, 114, 256, 111, 118, 256, 32, 116, 111, 32, 102, 111, 114, 109, 32, 102, 117, 114, 116, 104, 256, 32, 99, 97, 114, 98, 111, 104, 121, 100, 114, 97, 116, 256, 44, 32, 115, 117, 99, 104, 32, 97, 115, 32, 103, 108, 117, 99, 111, 115, 256, 32, 73, 110, 32, 111, 116, 104, 256, 32, 98, 97, 99, 116, 256, 105, 97, 44, 32, 100, 105, 102, 102, 256, 256, 116, 32, 109, 256, 104, 97, 110, 105, 115, 109, 115, 32, 108, 105, 107, 256, 116, 104, 256, 114, 256, 256, 115, 256, 75, 114, 256, 115, 32, 99, 121, 99, 108, 256, 97, 114, 256, 117, 115, 256, 32, 116, 111, 32, 97, 99, 104, 105, 256, 256, 116, 104, 256, 115, 97, 109, 256, 256, 100, 46, 84, 104, 256, 102, 105, 114, 115, 116, 32, 112, 104, 111, 116, 111, 115, 121, 110, 116, 104, 256, 105, 99, 32, 111, 114, 103, 97, 110, 105, 115, 109, 115, 32, 112, 114, 111, 98, 97, 98, 108, 121, 32, 256, 111, 108, 118, 256, 32, 256, 114, 108, 121, 32, 105, 110, 32, 116, 104, 256, 256, 111, 108, 117, 116, 105, 111, 110, 97, 114, 121, 32, 104, 105, 115, 116, 111, 114, 121, 32, 111, 102, 32, 108, 105, 102, 256, 117, 115, 105, 110, 103, 32, 114, 256, 117, 99, 105, 110, 103, 32, 97, 103, 256, 116, 115, 32, 115, 117, 99, 104, 32, 97, 115, 32, 104, 121, 100, 114, 111, 103, 256, 32, 111, 114, 32, 104, 121, 100, 114, 111, 103, 256, 32, 115, 117, 108, 102, 105, 100, 256, 32, 114, 97, 116, 104, 256, 32, 116, 104, 97, 110, 32, 119, 97, 116, 256, 44, 32, 97, 115, 32, 115, 111, 117, 114, 99, 256, 32, 111, 102, 32, 256, 256, 116, 114, 111, 110, 115, 46, 91, 52, 93, 32, 67, 121, 97, 110, 111, 98, 97, 99, 116, 256, 105, 97, 32, 97, 112, 112, 256, 114, 256, 32, 108, 97, 116, 256, 59, 32, 116, 104, 256, 256, 99, 256, 115, 32, 111, 120, 121, 103, 256, 32, 116, 104, 256, 32, 112, 114, 111, 100, 117, 99, 256, 32, 99, 111, 110, 116, 114, 105, 98, 117, 116, 256, 32, 100, 105, 114, 256, 116, 108, 121, 32, 116, 111, 32, 116, 104, 256, 111, 120, 121, 103, 256, 97, 116, 105, 111, 110, 32, 111, 102, 32, 116, 104, 256, 69, 97, 114, 116, 104, 44, 91, 53, 93, 32, 119, 104, 105, 99, 104, 32, 114, 256, 100, 256, 256, 32, 116, 104, 256, 256, 111, 108, 117, 116, 105, 111, 110, 32, 111, 102, 32, 99, 111, 109, 112, 108, 256, 32, 108, 105, 102, 256, 112, 111, 115, 115, 105, 98, 108, 256, 32, 84, 104, 256, 97, 118, 256, 97, 103, 256, 114, 97, 116, 256, 111, 102, 32, 256, 256, 103, 121, 32, 99, 97, 112, 116, 117, 114, 256, 32, 98, 121, 32, 103, 108, 111, 98, 97, 108, 32, 112, 104, 111, 116, 111, 115, 121, 110, 116, 104, 256, 105, 115, 32, 105, 115, 32, 97, 112, 112, 114, 111, 120, 105, 109, 97, 116, 256, 121, 32, 49, 51, 48, 32, 116, 256, 97, 119, 97, 116, 116, 115, 44, 91, 54, 93, 91, 55, 93, 91, 56, 93, 32, 119, 104, 105, 99, 104, 32, 105, 115, 32, 97, 98, 111, 117, 116, 32, 256, 103, 104, 116, 32, 116, 105, 109, 256, 32, 116, 104, 256, 116, 111, 116, 97, 108, 32, 112, 111, 119, 256, 32, 99, 111, 110, 115, 117, 109, 112, 116, 105, 111, 110, 32, 111, 102, 32, 104, 117, 109, 97, 110, 32, 99, 105, 118, 105, 108, 105, 122, 97, 116, 105, 111, 110, 46, 91, 57, 93, 32, 80, 104, 111, 116, 111, 115, 121, 110, 116, 104, 256, 105, 99, 32, 111, 114, 103, 97, 110, 105, 115, 109, 115, 32, 97, 108, 115, 111, 32, 99, 111, 110, 118, 256, 116, 32, 97, 114, 111, 117, 110, 100, 32, 49, 48, 48, 226, 128, 147, 49, 49, 53, 32, 98, 105, 108, 108, 105, 111, 110, 32, 116, 111, 110, 115, 32, 40, 57, 49, 226, 128, 147, 49, 48, 52, 32, 80, 103, 32, 112, 256, 97, 103, 114, 97, 109, 115, 44, 32, 111, 114, 32, 98, 105, 108, 108, 105, 111, 110, 115, 32, 111, 102, 32, 109, 256, 114, 105, 99, 32, 116, 111, 110, 115, 41, 44, 32, 111, 102, 32, 99, 97, 114, 98, 111, 110, 32, 105, 110, 116, 111, 32, 98, 105, 111, 109, 97, 115, 115, 32, 112, 256, 32, 121, 256, 114, 46, 91, 49, 48, 93, 91, 49, 49, 93, 32, 80, 104, 111, 116, 111, 115, 121, 110, 116, 104, 256, 105, 115, 32, 119, 97, 115, 32, 100, 105, 115, 99, 111, 118, 256, 256, 32, 105, 110, 32, 49, 55, 55, 57, 32, 98, 121, 32, 74, 97, 110, 32, 73, 110, 103, 256, 104, 111, 117, 115, 122, 32, 119, 104, 111, 32, 115, 104, 111, 119, 256, 32, 116, 104, 97, 116, 32, 112, 108, 97, 110, 116, 115, 32, 110, 256, 100, 32, 108, 105, 103, 104, 116, 44, 32, 110, 111, 116, 32, 106, 117, 115, 116, 32, 115, 111, 105, 108, 32, 97, 110, 100, 32, 119, 97, 116, 256, 46]\n"
     ]
    }
   ],
   "source": [
    "print(tokens2)"
   ]
  },
  {
   "cell_type": "code",
   "execution_count": null,
   "metadata": {},
   "outputs": [],
   "source": []
  },
  {
   "cell_type": "markdown",
   "metadata": {},
   "source": [
    "## basic BPE (Byte Pair Encoding) tokenizer"
   ]
  },
  {
   "cell_type": "code",
   "execution_count": 82,
   "metadata": {},
   "outputs": [
    {
     "name": "stdout",
     "output_type": "stream",
     "text": [
      "merging pair (101, 32) in to new token 256\n",
      "merging pair (116, 104) in to new token 257\n",
      "merging pair (256, 32) in to new token 258\n",
      "merging pair (257, 258) in to new token 259\n",
      "merging pair (115, 32) in to new token 260\n",
      "merging pair (97, 110) in to new token 261\n",
      "merging pair (32, 259) in to new token 262\n",
      "merging pair (261, 262) in to new token 263\n",
      "merging pair (110, 262) in to new token 264\n",
      "merging pair (114, 111) in to new token 265\n",
      "merging pair (262, 258) in to new token 266\n",
      "merging pair (264, 266) in to new token 267\n",
      "merging pair (267, 266) in to new token 268\n",
      "merging pair (266, 111) in to new token 269\n",
      "merging pair (121, 269) in to new token 270\n",
      "merging pair (259, 270) in to new token 271\n",
      "merging pair (258, 269) in to new token 272\n",
      "merging pair (272, 269) in to new token 273\n",
      "merging pair (273, 273) in to new token 274\n",
      "merging pair (274, 269) in to new token 275\n"
     ]
    }
   ],
   "source": [
    "#1: conver the text into the bbytes\n",
    "#2: find out most frequent bytes pairsa\n",
    "#3: replace the pair by some number\n",
    "#4: update the tokens\n",
    "\n",
    "def get_frequent_pairs(ids):\n",
    "    \"\"\"output-->((101, 32),81) .......  \"\"\"\n",
    "    counts={}\n",
    "    for pair in list(zip(ids, ids[1:])):\n",
    "        # counts[pair] = counts.get(pair, 0) + 1\n",
    "        if pair in counts:\n",
    "            counts[pair]+=1\n",
    "        else:\n",
    "            counts[pair]=1\n",
    "    return counts\n",
    "    \n",
    "def merge(ids, pair, idx):\n",
    "    #in the list of ints(ids), replace all consecutive occurances of pair with new token indx\n",
    "    newids=[]\n",
    "    i=0 \n",
    "    while i < len(ids):\n",
    "        #if we are notthe very last position and the pair matches, replace it\n",
    "        if i < len(ids)-1 and ids[i] == pair[0] and ids[i+1]:\n",
    "            newids.append(idx)\n",
    "            i += 2\n",
    "        else:\n",
    "            newids.append(ids[i])\n",
    "            i += 1 \n",
    "    return newids\n",
    "\n",
    "##runner code\n",
    "vocab_size = 276 #the desired final vocabulary size, can be adjusted to any numbers, depends on our usecase\n",
    "num_merges= vocab_size - 256 #we want only 20 merges, we can play around it, (merged pair, replaced by num > 256)%%!\n",
    "ids= list(tokens) #copy so we don't destroy original tokens\n",
    "\n",
    "merges={}\n",
    "for i in range(num_merges):\n",
    "    pair_freq= get_frequent_pairs(ids)\n",
    "    # Get the key with the maximum value\n",
    "    max_freq_pair= max(pair_freq, key=pair_freq.get) #dict(sorted(my_dict.items(), key=lambda item: item[1], reverse=True))\n",
    "    idx= 256 + i\n",
    "    print(f\"merging pair {max_freq_pair} in to new token {idx}\")\n",
    "    ids= merge(\n",
    "        ids=ids,\n",
    "        pair=max_freq_pair,\n",
    "        idx=idx)\n",
    "    merges[max_freq_pair]= idx"
   ]
  },
  {
   "cell_type": "code",
   "execution_count": 81,
   "metadata": {},
   "outputs": [
    {
     "name": "stdout",
     "output_type": "stream",
     "text": [
      "{(101, 32): 256, (116, 104): 257, (256, 32): 258, (257, 258): 259, (115, 32): 260, (97, 110): 261, (32, 259): 262, (261, 262): 263, (110, 262): 264, (114, 111): 265, (262, 258): 266, (264, 266): 267, (267, 266): 268, (266, 111): 269, (121, 269): 270, (259, 270): 271, (258, 269): 272, (272, 269): 273, (273, 273): 274, (274, 269): 275}\n"
     ]
    }
   ],
   "source": [
    "#which pairs got merged?\n",
    "print(merges)"
   ]
  },
  {
   "cell_type": "code",
   "execution_count": 78,
   "metadata": {},
   "outputs": [
    {
     "name": "stdout",
     "output_type": "stream",
     "text": [
      "tokens lenght: 3687\n",
      "ids length: 711\n",
      "compression ratio:  5.185654X\n"
     ]
    }
   ],
   "source": [
    "print(\"tokens lenght:\", len(tokens))\n",
    "print(\"ids length:\", len(ids))\n",
    "print(f\"compression ratio:  {len(tokens)/len(ids):2f}X\")"
   ]
  },
  {
   "cell_type": "code",
   "execution_count": 132,
   "metadata": {},
   "outputs": [
    {
     "name": "stdout",
     "output_type": "stream",
     "text": [
      "[80, 104, 111, 271, 260, 263, 260, 111, 102, 269, 108, 111, 103, 105, 99, 263, 265, 99, 275, 104, 269, 271, 263, 260, 260, 269, 269, 260, 108, 263, 269, 100, 269, 98, 263, 263, 111, 268, 105, 103, 104, 271, 270, 269, 263, 270, 269, 103, 104, 271, 268, 275, 265, 269, 275, 260, 46, 269, 271, 260, 263, 270, 271, 120, 270, 275, 99, 275, 275, 260, 260, 260, 275, 270, 100, 117, 99, 275, 265, 263, 99, 269, 112, 111, 117, 268, 99, 111, 109, 112, 111, 117, 268, 111, 268, 111, 268, 275, 99, 111, 103, 275, 268, 275, 275, 270, 269, 263, 260, 39, 260, 99, 275, 105, 122, 275, 269, 112, 111, 117, 268, 111, 117, 103, 104, 269, 108, 263, 275, 271, 108, 263, 263, 265, 271, 111, 108, 275, 268, 271, 270, 275, 263, 104, 275, 108, 105, 275, 269, 108, 111, 103, 105, 99, 263, 103, 270, 265, 269, 111, 109, 112, 108, 275, 83, 111, 109, 275, 265, 269, 270, 275, 99, 104, 269, 263, 111, 99, 104, 108, 111, 265, 112, 104, 270, 108, 269, 105, 271, 265, 103, 275, 100, 275, 265, 100, 117, 99, 105, 268, 117, 265, 268, 270, 275, 269, 98, 263, 117, 109, 269, 111, 265, 269, 102, 269, 111, 268, 120, 105, 268, 270, 275, 108, 275, 103, 109, 275, 99, 265, 98, 105, 263, 104, 111, 100, 111, 112, 260, 268, 263, 263, 260, 271, 265, 269, 103, 104, 271, 275, 260, 271, 105, 265, 270, 275, 111, 260, 104, 263, 84, 80, 41, 44, 269, 270, 275, 104, 269, 263, 104, 111, 271, 105, 103, 104, 271, 275, 269, 111, 271, 271, 118, 275, 269, 265, 104, 275, 98, 263, 263, 260, 80, 117, 265, 108, 275, 271, 46, 87, 104, 105, 108, 275, 109, 263, 105, 102, 102, 275, 275, 103, 104, 271, 270, 265, 275, 260, 271, 111, 268, 111, 271, 103, 109, 275, 112, 104, 111, 265, 269, 263, 269, 103, 109, 275, 112, 104, 270, 108, 260, 40, 263, 111, 265, 104, 270, 268, 263, 263, 260, 265, 260, 271, 263, 269, 275, 111, 102, 269, 104, 271, 260, 265, 275, 265, 112, 108, 263, 117, 268, 269, 269, 263, 263, 98, 275, 275, 104, 271, 100, 275, 112, 269, 109, 269, 108, 275, 275, 117, 99, 105, 268, 103, 275, 275, 105, 271, 260, 117, 260, 105, 268, 268, 109, 112, 111, 265, 271, 108, 275, 112, 263, 269, 99, 269, 275, 275, 260, 104, 263, 65, 68, 80, 72, 41, 269, 80, 46, 73, 268, 269, 100, 269, 98, 263, 263, 103, 263, 263, 270, 98, 270, 260, 275, 104, 271, 275, 108, 275, 275, 120, 105, 100, 275, 265, 268, 270, 269, 99, 269, 112, 111, 117, 268, 104, 269, 117, 108, 111, 260, 105, 260, 104, 111, 260, 104, 263, 117, 66, 80, 41, 46, 91, 51, 93, 269, 269, 68, 80, 72, 269, 117, 99, 275, 100, 275, 112, 111, 117, 268, 275, 269, 99, 263, 111, 104, 270, 265, 99, 104, 269, 117, 99, 111, 260, 73, 268, 263, 263, 105, 102, 102, 275, 108, 105, 107, 275, 108, 275, 275, 104, 275, 271, 263, 260, 260, 112, 265, 98, 263, 270, 275, 117, 271, 270, 102, 275, 104, 269, 100, 265, 103, 275, 103, 275, 100, 275, 275, 269, 98, 263, 263, 112, 275, 275, 117, 99, 275, 105, 265, 270, 270, 275, 269, 99, 104, 269, 269, 117, 271, 109, 112, 108, 275, 98, 108, 275, 98, 270, 98, 263, 104, 111, 271, 260, 263, 265, 120, 105, 109, 263, 51, 48, 269, 91, 54, 93, 91, 55, 93, 91, 56, 93, 269, 99, 104, 269, 117, 271, 271, 275, 271, 109, 263, 105, 118, 105, 108, 105, 122, 263, 46, 91, 57, 93, 269, 271, 263, 260, 260, 263, 269, 117, 268, 226, 128, 147, 49, 49, 53, 269, 108, 105, 111, 268, 57, 49, 226, 128, 147, 49, 48, 52, 269, 103, 265, 269, 108, 108, 105, 111, 268, 269, 99, 269, 269, 111, 268, 105, 111, 109, 263, 275, 48, 93, 91, 49, 49, 93, 269, 271, 263, 105, 260, 111, 118, 275, 268, 117, 260, 269, 269, 275, 104, 271, 260, 111, 105, 108, 269]\n"
     ]
    }
   ],
   "source": [
    "#new tokenized string \n",
    "print(ids)"
   ]
  },
  {
   "cell_type": "code",
   "execution_count": 133,
   "metadata": {},
   "outputs": [
    {
     "name": "stdout",
     "output_type": "stream",
     "text": [
      "3.11.11 | packaged by Anaconda, Inc. | (main, Dec 11 2024, 16:34:19) [MSC v.1929 64 bit (AMD64)]\n"
     ]
    }
   ],
   "source": [
    "import sys\n",
    "print(sys.version)"
   ]
  },
  {
   "cell_type": "code",
   "execution_count": 143,
   "metadata": {},
   "outputs": [],
   "source": [
    "vocab= {idx: bytes([idx]) for idx in range(256)}\n",
    "for (x, y), idx in merges.items():\n",
    "    vocab[idx] = vocab[x] + vocab[y]\n",
    "\n",
    "def decode_(ids):\n",
    "    #given ids (list of ints), returns python strings\n",
    "    tokens= b\"\".join(vocab[indx] for indx in ids)\n",
    "    text= tokens.decode(\"utf-8\", errors=\"replace\")\n",
    "    return text   \n",
    "    "
   ]
  },
  {
   "cell_type": "code",
   "execution_count": 149,
   "metadata": {},
   "outputs": [
    {
     "name": "stdout",
     "output_type": "stream",
     "text": [
      "{(101, 32): 256, (116, 104): 257, (256, 32): 258, (257, 258): 259, (115, 32): 260, (97, 110): 261, (32, 259): 262, (261, 262): 263, (110, 262): 264, (114, 111): 265, (262, 258): 266, (264, 266): 267, (267, 266): 268, (266, 111): 269, (121, 269): 270, (259, 270): 271, (258, 269): 272, (272, 269): 273, (273, 273): 274, (274, 269): 275}\n"
     ]
    },
    {
     "data": {
      "text/plain": [
       "(inf, None)"
      ]
     },
     "execution_count": 149,
     "metadata": {},
     "output_type": "execute_result"
    }
   ],
   "source": [
    "float(\"inf\"), print(merges)"
   ]
  },
  {
   "cell_type": "code",
   "execution_count": 155,
   "metadata": {},
   "outputs": [
    {
     "name": "stdout",
     "output_type": "stream",
     "text": [
      "[104, 101, 108, 108, 111, 32, 119, 111, 114, 108, 100, 33]\n"
     ]
    }
   ],
   "source": [
    "def encode(text):\n",
    "    tokens= list(text.encode(\"utf-8\"))\n",
    "    while len(tokens) >=2:\n",
    "        stats= get_frequent_pairs(tokens)\n",
    "        pair= min(stats, key=lambda p: merges.get(p, float(\"inf\")))\n",
    "        if pair not in merges:\n",
    "            break #nothing else can be merged\n",
    "        idx= merges[pair]\n",
    "        tokens= merge(tokens, pair, idx)\n",
    "    return tokens\n",
    "            \n",
    "print(encode(\"hello world!\"))            "
   ]
  },
  {
   "cell_type": "code",
   "execution_count": 156,
   "metadata": {},
   "outputs": [
    {
     "data": {
      "text/plain": [
       "'hello world!'"
      ]
     },
     "execution_count": 156,
     "metadata": {},
     "output_type": "execute_result"
    }
   ],
   "source": [
    "decode(encode(\"hello world!\"))"
   ]
  },
  {
   "cell_type": "code",
   "execution_count": null,
   "metadata": {},
   "outputs": [],
   "source": []
  }
 ],
 "metadata": {
  "kernelspec": {
   "display_name": "Python 3",
   "language": "python",
   "name": "python3"
  },
  "language_info": {
   "codemirror_mode": {
    "name": "ipython",
    "version": 3
   },
   "file_extension": ".py",
   "mimetype": "text/x-python",
   "name": "python",
   "nbconvert_exporter": "python",
   "pygments_lexer": "ipython3",
   "version": "3.11.11"
  }
 },
 "nbformat": 4,
 "nbformat_minor": 4
}
