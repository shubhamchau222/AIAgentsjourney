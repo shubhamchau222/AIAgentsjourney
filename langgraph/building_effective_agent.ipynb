{
 "cells": [
  {
   "cell_type": "code",
   "execution_count": 2,
   "metadata": {},
   "outputs": [],
   "source": [
    "from dotenv import load_dotenv\n",
    "import os\n",
    "import yaml\n",
    "from langchain_google_genai import GoogleGenerativeAIEmbeddings, GoogleGenerativeAI"
   ]
  },
  {
   "cell_type": "code",
   "execution_count": 103,
   "metadata": {},
   "outputs": [],
   "source": [
    "# https://mirror-feeling-d80.notion.site/Workflow-And-Agents-17e808527b1780d792a0d934ce62bee6\n",
    "# https://langchain-ai.github.io/langgraph/tutorials/workflows/#agent"
   ]
  },
  {
   "cell_type": "markdown",
   "metadata": {},
   "source": [
    "## setting up envs"
   ]
  },
  {
   "cell_type": "code",
   "execution_count": 4,
   "metadata": {},
   "outputs": [
    {
     "data": {
      "text/plain": [
       "True"
      ]
     },
     "execution_count": 4,
     "metadata": {},
     "output_type": "execute_result"
    }
   ],
   "source": [
    "env_path = r\"D:\\common_credentials\\.env\"\n",
    "load_dotenv(dotenv_path=env_path)\n",
    "\n",
    "# GROQ_API_KEY = os.getenv('GROQ_API_KEY')\n",
    "# GEMINI_API_KEY = os.getenv(\"GEMINI_API_KEY\")\n",
    "# GOOGLE_API_KEY = os.getenv(\"GOOGLE_API_KEY\")\n",
    "\n",
    "# os.environ[\"GOOGLE_API_KEY\"] = GOOGLE_API_KEY\n",
    "# os.environ[\"GEMINI_API_KEY\"] = GEMINI_API_KEY\n",
    "# os.environ[\"LANGCHAIN_API_KEY\"]=os.getenv(\"LANGCHAIN_API_KEY\")\n",
    "# os.environ[\"LANGCHAIN_TRACING_V2\"]=\"true\"\n",
    "# os.environ[\"LANGSMITH_PROJECT\"]=os.getenv(\"LANGSMITH_PROJECT\")\n",
    "# os.environ[\"LANGCHAIN_PROJECT\"]=os.getenv(\"LANGSMITH_PROJECT\")\n",
    "# os.environ[\"LANGSMITH_ENDPOINT\"]=os.getenv(\"LANGSMITH_ENDPOINT\")"
   ]
  },
  {
   "cell_type": "markdown",
   "metadata": {},
   "source": [
    "## models config: with providers info"
   ]
  },
  {
   "cell_type": "code",
   "execution_count": 5,
   "metadata": {},
   "outputs": [
    {
     "data": {
      "text/plain": [
       "{'googleModels': {'Embedding_models': ['models/embedding-001',\n",
       "   'models/text-embedding-004'],\n",
       "  'Inferencing_Models': {'text_models': ['gemini-pro'],\n",
       "   'multimodels': ['gemini-2.0-flash-exp',\n",
       "    'gemini-1.5-flash',\n",
       "    'gemini-1.5-flash-8b']}},\n",
       " 'GroqModels': {'Inferencing_Models': {'multimodels': ['llama-3.2-90b-vision-preview',\n",
       "    'llama-3.2-11b-vision-preview'],\n",
       "   'reasoning_Models': ['deepseek-r1-distill-llama-70b'],\n",
       "   'text_models': ['distil-whisper-large-v3-en',\n",
       "    'gemma2-9b-it',\n",
       "    'llama-3.3-70b-versatile',\n",
       "    'llama-3.1-8b-instant',\n",
       "    'whisper-large-v3-turbo',\n",
       "    'deepseek-r1-distill-llama-70b']}}}"
      ]
     },
     "execution_count": 5,
     "metadata": {},
     "output_type": "execute_result"
    }
   ],
   "source": [
    "with open(\"../config.yml\", \"r\") as yml_file:\n",
    "    yml_config= yaml.safe_load(yml_file)\n",
    "    yml_file.close()\n",
    "yml_config"
   ]
  },
  {
   "cell_type": "markdown",
   "metadata": {},
   "source": [
    "## Workflows\n",
    "    - In past days; we used to take the output from llm & embed them to the some kind of predefined code\n",
    "    - Agents: remove the scafholdings, let llm to ke take  direct own actions, it uses tools & decide what to do next\n",
    "    - Langgraph Gives you lower level infrastructure using which you can design any workflow"
   ]
  },
  {
   "cell_type": "markdown",
   "metadata": {},
   "source": [
    "pydantic: https://www.youtube.com/watch?v=XIdQ6gO3Anc"
   ]
  },
  {
   "cell_type": "code",
   "execution_count": 45,
   "metadata": {},
   "outputs": [],
   "source": [
    "from langgraph.graph import START, END, StateGraph\n",
    "from IPython.display import Image, display\n",
    "from typing_extensions import TypedDict, Any, List\n",
    "from pydantic import BaseModel, Field\n",
    "from langchain_groq import ChatGroq"
   ]
  },
  {
   "cell_type": "code",
   "execution_count": 19,
   "metadata": {},
   "outputs": [
    {
     "data": {
      "text/plain": [
       "ChatGroq(client=<groq.resources.chat.completions.Completions object at 0x00000212C6F9E090>, async_client=<groq.resources.chat.completions.AsyncCompletions object at 0x00000212C6FBF490>, model_name='llama-3.3-70b-versatile', model_kwargs={}, groq_api_key=SecretStr('**********'))"
      ]
     },
     "execution_count": 19,
     "metadata": {},
     "output_type": "execute_result"
    }
   ],
   "source": [
    "llm = ChatGroq(model=\"llama-3.3-70b-versatile\")\n",
    "llm"
   ]
  },
  {
   "cell_type": "markdown",
   "metadata": {},
   "source": [
    "## Pydantic Basics"
   ]
  },
  {
   "cell_type": "code",
   "execution_count": 32,
   "metadata": {},
   "outputs": [
    {
     "data": {
      "text/plain": [
       "'Shubham'"
      ]
     },
     "execution_count": 32,
     "metadata": {},
     "output_type": "execute_result"
    }
   ],
   "source": [
    "#strict the model output\n",
    "class Variables_type_tracker(BaseModel):\n",
    "    name: str\n",
    "\n",
    "a = Variables_type_tracker(name=\"Shubham\")\n",
    "a.name"
   ]
  },
  {
   "cell_type": "code",
   "execution_count": 55,
   "metadata": {},
   "outputs": [
    {
     "data": {
      "text/plain": [
       "'shubham'"
      ]
     },
     "execution_count": 55,
     "metadata": {},
     "output_type": "execute_result"
    }
   ],
   "source": [
    "from pydantic import BaseModel, Field, validator, field_validator\n",
    "class User(BaseModel):\n",
    "    name: str\n",
    "    age: int\n",
    "    account_type: Any\n",
    "    account_id: int\n",
    "\n",
    "    @field_validator(\"account_id\")\n",
    "    def validae_account_id(cls, value):\n",
    "        if value < 0:\n",
    "            raise ValueError(f\"account_id must be positive:{value}\")\n",
    "        return value\n",
    "\n",
    "## how to feed data \n",
    "shubham = User(name=\"Shubham\", age=1000, account_type={}, account_id= 70)\n",
    "\n",
    "## another way using dict\n",
    "user_data= {\n",
    "    'name': \"shubham\",\n",
    "    'age': 10000,\n",
    "    'account_type': \"Platinum\",\n",
    "    'account_id': 80\n",
    "}\n",
    "\n",
    "shubham2= User(**user_data)\n",
    "\n",
    "## get  the variables\n",
    "shubham2.name\n"
   ]
  },
  {
   "cell_type": "code",
   "execution_count": 57,
   "metadata": {},
   "outputs": [
    {
     "ename": "ValidationError",
     "evalue": "1 validation error for User\naccount_id\n  Value error, account_id must be positive:-10 [type=value_error, input_value=-10, input_type=int]\n    For further information visit https://errors.pydantic.dev/2.10/v/value_error",
     "output_type": "error",
     "traceback": [
      "\u001b[1;31m---------------------------------------------------------------------------\u001b[0m",
      "\u001b[1;31mValidationError\u001b[0m                           Traceback (most recent call last)",
      "Cell \u001b[1;32mIn[57], line 8\u001b[0m\n\u001b[0;32m      1\u001b[0m \u001b[38;5;66;03m## try to give negative value\u001b[39;00m\n\u001b[0;32m      2\u001b[0m user_data\u001b[38;5;241m=\u001b[39m {\n\u001b[0;32m      3\u001b[0m     \u001b[38;5;124m'\u001b[39m\u001b[38;5;124mname\u001b[39m\u001b[38;5;124m'\u001b[39m: \u001b[38;5;124m\"\u001b[39m\u001b[38;5;124mshubham\u001b[39m\u001b[38;5;124m\"\u001b[39m,\n\u001b[0;32m      4\u001b[0m     \u001b[38;5;124m'\u001b[39m\u001b[38;5;124mage\u001b[39m\u001b[38;5;124m'\u001b[39m: \u001b[38;5;241m10000\u001b[39m,\n\u001b[0;32m      5\u001b[0m     \u001b[38;5;124m'\u001b[39m\u001b[38;5;124maccount_type\u001b[39m\u001b[38;5;124m'\u001b[39m: \u001b[38;5;124m\"\u001b[39m\u001b[38;5;124mPlatinum\u001b[39m\u001b[38;5;124m\"\u001b[39m,\n\u001b[0;32m      6\u001b[0m     \u001b[38;5;124m'\u001b[39m\u001b[38;5;124maccount_id\u001b[39m\u001b[38;5;124m'\u001b[39m: \u001b[38;5;241m-\u001b[39m\u001b[38;5;241m10\u001b[39m\n\u001b[0;32m      7\u001b[0m }\n\u001b[1;32m----> 8\u001b[0m shubham2\u001b[38;5;241m=\u001b[39m \u001b[43mUser\u001b[49m\u001b[43m(\u001b[49m\u001b[38;5;241;43m*\u001b[39;49m\u001b[38;5;241;43m*\u001b[39;49m\u001b[43muser_data\u001b[49m\u001b[43m)\u001b[49m\n",
      "File \u001b[1;32mc:\\Users\\Dell\\.conda\\envs\\autogen\\Lib\\site-packages\\pydantic\\main.py:214\u001b[0m, in \u001b[0;36mBaseModel.__init__\u001b[1;34m(self, **data)\u001b[0m\n\u001b[0;32m    212\u001b[0m \u001b[38;5;66;03m# `__tracebackhide__` tells pytest and some other tools to omit this function from tracebacks\u001b[39;00m\n\u001b[0;32m    213\u001b[0m __tracebackhide__ \u001b[38;5;241m=\u001b[39m \u001b[38;5;28;01mTrue\u001b[39;00m\n\u001b[1;32m--> 214\u001b[0m validated_self \u001b[38;5;241m=\u001b[39m \u001b[38;5;28;43mself\u001b[39;49m\u001b[38;5;241;43m.\u001b[39;49m\u001b[43m__pydantic_validator__\u001b[49m\u001b[38;5;241;43m.\u001b[39;49m\u001b[43mvalidate_python\u001b[49m\u001b[43m(\u001b[49m\u001b[43mdata\u001b[49m\u001b[43m,\u001b[49m\u001b[43m \u001b[49m\u001b[43mself_instance\u001b[49m\u001b[38;5;241;43m=\u001b[39;49m\u001b[38;5;28;43mself\u001b[39;49m\u001b[43m)\u001b[49m\n\u001b[0;32m    215\u001b[0m \u001b[38;5;28;01mif\u001b[39;00m \u001b[38;5;28mself\u001b[39m \u001b[38;5;129;01mis\u001b[39;00m \u001b[38;5;129;01mnot\u001b[39;00m validated_self:\n\u001b[0;32m    216\u001b[0m     warnings\u001b[38;5;241m.\u001b[39mwarn(\n\u001b[0;32m    217\u001b[0m         \u001b[38;5;124m'\u001b[39m\u001b[38;5;124mA custom validator is returning a value other than `self`.\u001b[39m\u001b[38;5;130;01m\\n\u001b[39;00m\u001b[38;5;124m'\u001b[39m\n\u001b[0;32m    218\u001b[0m         \u001b[38;5;124m\"\u001b[39m\u001b[38;5;124mReturning anything other than `self` from a top level model validator isn\u001b[39m\u001b[38;5;124m'\u001b[39m\u001b[38;5;124mt supported when validating via `__init__`.\u001b[39m\u001b[38;5;130;01m\\n\u001b[39;00m\u001b[38;5;124m\"\u001b[39m\n\u001b[0;32m    219\u001b[0m         \u001b[38;5;124m'\u001b[39m\u001b[38;5;124mSee the `model_validator` docs (https://docs.pydantic.dev/latest/concepts/validators/#model-validators) for more details.\u001b[39m\u001b[38;5;124m'\u001b[39m,\n\u001b[0;32m    220\u001b[0m         stacklevel\u001b[38;5;241m=\u001b[39m\u001b[38;5;241m2\u001b[39m,\n\u001b[0;32m    221\u001b[0m     )\n",
      "\u001b[1;31mValidationError\u001b[0m: 1 validation error for User\naccount_id\n  Value error, account_id must be positive:-10 [type=value_error, input_value=-10, input_type=int]\n    For further information visit https://errors.pydantic.dev/2.10/v/value_error"
     ]
    }
   ],
   "source": [
    "## try to give negative value\n",
    "user_data= {\n",
    "    'name': \"shubham\",\n",
    "    'age': 10000,\n",
    "    'account_type': \"Platinum\",\n",
    "    'account_id': -10\n",
    "}\n",
    "shubham2= User(**user_data)"
   ]
  },
  {
   "cell_type": "markdown",
   "metadata": {},
   "source": [
    "## graphs"
   ]
  },
  {
   "cell_type": "code",
   "execution_count": 80,
   "metadata": {},
   "outputs": [
    {
     "name": "stdout",
     "output_type": "stream",
     "text": [
      "response :  search_query='high cholesterol and heart disease relationship' justification='The user is asking about the relationship between high cholesterol and heart disease, so a search query is needed to provide information on this topic.'\n",
      "response.search_query:  high cholesterol and heart disease relationship\n",
      "response.justification: The user is asking about the relationship between high cholesterol and heart disease, so a search query is needed to provide information on this topic.\n"
     ]
    }
   ],
   "source": [
    "from pydantic import BaseModel, Field\n",
    "\n",
    "class search_query(BaseModel):\n",
    "    search_query: str= Field(None, description=\"Query that is optimized the web search\")\n",
    "    justification:str= Field(None, description=\"Why this Query is relevant to the user's request\")\n",
    "\n",
    "#Agument llm with the schema\n",
    "structured_llm= llm.with_structured_output(search_query)\n",
    "response= structured_llm.invoke(\"How does the high cholesterol related to heart disease\")\n",
    "print(\"response : \", response)\n",
    "print(\"response.search_query: \", response.search_query)\n",
    "print(\"response.justification:\", response.justification)\n"
   ]
  },
  {
   "cell_type": "code",
   "execution_count": 81,
   "metadata": {},
   "outputs": [
    {
     "name": "stdout",
     "output_type": "stream",
     "text": [
      "\n",
      "msg:  content='' additional_kwargs={'tool_calls': [{'id': 'call_hn16', 'function': {'arguments': '{\"a\": 3, \"b\": 4}', 'name': 'multiply'}, 'type': 'function'}]} response_metadata={'token_usage': {'completion_tokens': 19, 'prompt_tokens': 212, 'total_tokens': 231, 'completion_time': 0.069090909, 'prompt_time': 0.02994347, 'queue_time': 0.22436370800000002, 'total_time': 0.099034379}, 'model_name': 'llama-3.3-70b-versatile', 'system_fingerprint': 'fp_4e32347616', 'finish_reason': 'tool_calls', 'logprobs': None} id='run-f1928983-a9f7-4374-b28b-35e474851605-0' tool_calls=[{'name': 'multiply', 'args': {'a': 3, 'b': 4}, 'id': 'call_hn16', 'type': 'tool_call'}] usage_metadata={'input_tokens': 212, 'output_tokens': 19, 'total_tokens': 231}\n",
      "\n",
      "msg.tool_calls:  [{'name': 'multiply', 'args': {'a': 3, 'b': 4}, 'id': 'call_hn16', 'type': 'tool_call'}]\n"
     ]
    }
   ],
   "source": [
    "##Define the tool\n",
    "def multiply(a:int, b:int) -> int:\n",
    "    return a * b\n",
    "\n",
    "#binf the tool with llm\n",
    "llm_with_bind_tools= llm.bind_tools([multiply])\n",
    "msg= llm_with_bind_tools.invoke(\"What is 3 times 4?\")\n",
    "print(\"\\nmsg: \", msg)\n",
    "print(\"\\nmsg.tool_calls: \", msg.tool_calls)"
   ]
  },
  {
   "attachments": {
    "image.png": {
     "image/png": "[encoded data removed]"
    }
   },
   "cell_type": "markdown",
   "metadata": {},
   "source": [
    "## prompt chaining\n",
    "\n",
    "![image.png](attachment:image.png)\n",
    "\n",
    "Each LLM call processes the output of the previous one:\n",
    "\n",
    "- E.g., when decomposing a task into multiple LLM calls has benefit.\n",
    "\n",
    "Example:\n",
    "\n",
    "- Take a topic, LLM makes a joke, check the joke, improve it twice"
   ]
  },
  {
   "cell_type": "code",
   "execution_count": 83,
   "metadata": {},
   "outputs": [],
   "source": [
    "#create the Grpah state\n",
    "#create nodes for each task\n",
    "#use validation node\n",
    "#creat the chain \n",
    "#Display the graph\n",
    "#run the chain"
   ]
  },
  {
   "cell_type": "code",
   "execution_count": 99,
   "metadata": {},
   "outputs": [
    {
     "data": {
      "image/png": "[encoded data removed]",
      "text/plain": [
       "<IPython.core.display.Image object>"
      ]
     },
     "metadata": {},
     "output_type": "display_data"
    }
   ],
   "source": [
    "from langgraph.graph import Graph, StateGraph, START, END\n",
    "from typing import  TypedDict\n",
    "\n",
    "#Graph state\n",
    "class State(TypedDict):\n",
    "    topic:str\n",
    "    joke:str\n",
    "    improved_joke:str\n",
    "    final_joke:str\n",
    "\n",
    "#create the nodes\n",
    "\n",
    "def generate_joke(state: State):\n",
    "    \"\"\"First LLM call to generate initial joke\"\"\"\n",
    "    msg = llm.invoke(f\"Write a short joke about {state['topic']}\")\n",
    "    return {\"joke\": msg.content}\n",
    "\n",
    "def improve_joke(state:State):\n",
    "    \"\"\"Second llm call in where it'll modify the basic joke\"\"\"\n",
    "    msg= llm.invoke(f\"Make this joke more funnier :{state['joke']}\")\n",
    "    return {\"improved_joke\": msg.content}\n",
    "\n",
    "def polish_joke(state:State):\n",
    "    \"\"\"Finally it will polish the joke\"\"\"\n",
    "    msg= llm.invoke(f\"polish this joke & add surprising indian twist:{state['improved_joke']}\")\n",
    "    return {\"final_joke\": msg.content}\n",
    "\n",
    "#validation node\n",
    "def validation_node(state:State):\n",
    "    \"\"\"It'll validate the joke after first call\"\"\"\n",
    "    # Simple check - does the joke contain \"?\" or \"!\"\n",
    "    if \"?\" in state[\"joke\"] or \"!\" in state[\"joke\"]:\n",
    "        return \"Pass\"\n",
    "    return \"Fail\"\n",
    "\n",
    "#creat the workflow\n",
    "workflow= StateGraph(State)\n",
    "workflow.add_node(\"generate_jokes\", generate_jokes)\n",
    "workflow.add_node(\"improve_joke\", improve_joke)\n",
    "workflow.add_node(\"polish_joke\", polish_joke)\n",
    "#add conditional edge\n",
    "workflow.add_edge(START, \"generate_jokes\")\n",
    "workflow.add_conditional_edges(\n",
    "    \"generate_jokes\", validation_node,\n",
    "    {\"Pass\": \"improve_joke\",\n",
    "    \"Fail\": END}\n",
    "\n",
    ")\n",
    "workflow.add_edge(\"improve_joke\", \"polish_joke\")\n",
    "workflow.add_edge(\"polish_joke\", END)\n",
    "\n",
    "#compile the graph\n",
    "chain= workflow.compile()\n",
    "\n",
    "#Display the workflow\n",
    "display(Image(chain.get_graph().draw_mermaid_png()))"
   ]
  },
  {
   "cell_type": "code",
   "execution_count": 100,
   "metadata": {},
   "outputs": [
    {
     "data": {
      "text/plain": [
       "{'topic': 'cats',\n",
       " 'joke': 'Why did the cat join a band? Because it wanted to be the purr-cussionist.',\n",
       " 'improved_joke': 'Here\\'s a revised version with an added punchline:\\n\\nWhy did the cat join a band? Because it wanted to be the purr-cussionist. And now it\\'s the cat\\'s meow of the music scene – every time it plays a solo, the crowd goes wild and starts paw-ting along!\\n\\nI added a few cat-related puns to make the joke more playful and humorous. The phrase \"cat\\'s meow\" is a common idiom that means something is excellent or of high quality, and \"paw-ting\" is a pun on \"tapping\" that incorporates the idea of paws. These additions add to the lighthearted and silly tone of the joke, making it more likely to elicit a laugh.',\n",
       " 'final_joke': 'Here\\'s a polished version with a surprising Indian twist:\\n\\nWhy did the cat join a Bollywood band? Because it wanted to be the purr-cussionist and add some mew-sical flair to the tabla beats! And now it\\'s the cat\\'s meow of the music scene – every time it plays a solo, the crowd goes wild, starts paw-ting along, and chants \"once more, kitty, once more!\" in true Bollywood style. In fact, the cat\\'s performances are so mesmerizing that even the gods are impressed – Lord Ganesha himself has started tapping his trunk to the cat\\'s purr-cussive rhythms, and the crowd is going absolutely ga-ga!\\n\\nI added a few surprises to the joke:\\n\\n1. **Bollywood twist**: I incorporated the idea of a Bollywood band to give the joke an Indian flavor.\\n2. **Tabla beats**: I mentioned tabla beats to add a specific Indian musical element to the joke.\\n3. **Mew-sical flair**: This phrase combines \"mew\" (the sound a cat makes) with \"musical\" to create a pun that fits the cat theme.\\n4. **Bollywood-style chanting**: The phrase \"once more, kitty, once more\" is a playful take on the typical Bollywood-style chanting that occurs during live performances.\\n5. **Lord Ganesha\\'s appearance**: I brought in Lord Ganesha, a beloved Indian deity, to add a surprising and humorous element to the joke. The image of Lord Ganesha tapping his trunk to the cat\\'s rhythms is a lighthearted and imaginative touch that adds to the joke\\'s playfulness.\\n\\nThese additions aim to create a joke that\\'s both humorous and culturally interesting, with a unique blend of Indian and feline themes.'}"
      ]
     },
     "execution_count": 100,
     "metadata": {},
     "output_type": "execute_result"
    }
   ],
   "source": [
    "satechain.invoke({\"topic\": \"cats\"})"
   ]
  },
  {
   "cell_type": "code",
   "execution_count": 102,
   "metadata": {},
   "outputs": [
    {
     "name": "stdout",
     "output_type": "stream",
     "text": [
      "Initial joke:\n",
      "Why did Google go to therapy? \n",
      "It had too many search issues.\n",
      "\n",
      "--- --- ---\n",
      "\n",
      "Improved joke:\n",
      "A great starting point. Here are a few variations to make it even funnier:\n",
      "\n",
      "1. Why did Google go to therapy? It had too many search issues and was feeling a little \"dis-connected\"!\n",
      "2. Why did Google go to therapy? It was struggling to \"find\" itself and had too many search issues!\n",
      "3. Why did Google go to therapy? It had too many search issues and was tired of being \"redirected\" to its problems!\n",
      "4. Why did Google go to therapy? It had too many search issues and was feeling \"lost\" in cyberspace!\n",
      "5. Why did Google go to therapy? It had too many search issues and was trying to \"cache\" its emotions!\n",
      "\n",
      "Choose the one that makes you laugh the most, or feel free to modify them to create your own hilarious version!\n",
      "\n",
      "--- --- ---\n",
      "\n",
      "Final joke:\n",
      "Here are some polished versions with a surprising Indian twist:\n",
      "\n",
      "1. Why did Google go to an Ayurvedic therapist in India? It had too many search issues and was feeling a little \"dis-connected\" from its roots, so it needed some ghee for its algorithms and a dash of yoga to find its inner SEO!\n",
      "2. Why did Google go to a guru in Mumbai? It was struggling to \"find\" itself and had too many search issues, but after some chai and a session of Bollywood dance therapy, it finally discovered its true search purpose – to help Indians find the best dosa recipes!\n",
      "3. Why did Google go to a Vedic counselor in Delhi? It had too many search issues and was tired of being \"redirected\" to its problems, so it learned to chant \"Om Google\" and found peace in the ancient Indian art of search engine optimization!\n",
      "4. Why did Google go to a tech-savvy sadhu in Rishikesh? It had too many search issues and was feeling \"lost\" in cyberspace, but after a digital detox and a dip in the Ganges, it found its search mojo and started serving up results faster than a plate of steaming hot idlis!\n",
      "5. Why did Google go to a Bengali therapist in Kolkata? It had too many search issues and was trying to \"cache\" its emotions, but after a hearty plate of machh bhaja and a session of adda, it learned to prioritize its search results and serve up the perfect biryani recipe every time!\n",
      "\n",
      "Choose the one that tickles your funny bone the most, or feel free to modify them to create your own hilarious version with an Indian twist!\n"
     ]
    }
   ],
   "source": [
    "# Invoke\n",
    "state = chain.invoke({\"topic\": \"Google\"})\n",
    "print(\"Initial joke:\")\n",
    "print(state[\"joke\"])\n",
    "print(\"\\n--- --- ---\\n\")\n",
    "if \"improved_joke\" in state:\n",
    "    print(\"Improved joke:\")\n",
    "    print(state[\"improved_joke\"])\n",
    "    print(\"\\n--- --- ---\\n\")\n",
    "\n",
    "    print(\"Final joke:\")\n",
    "    print(state[\"final_joke\"])\n",
    "else:\n",
    "    print(\"Joke failed quality gate - no punchline detected!\")"
   ]
  },
  {
   "cell_type": "code",
   "execution_count": 1,
   "metadata": {},
   "outputs": [],
   "source": [
    "# from deepeval.benchmarks import MMLU\n",
    "# from deepeval.benchmarks.mmlu.task import MMLUTask\n",
    "\n",
    "# # Define benchmark with specific tasks and shots\n",
    "# benchmark = MMLU(\n",
    "#     tasks=[MMLUTask.HIGH_SCHOOL_COMPUTER_SCIENCE, MMLUTask.ASTRONOMY],\n",
    "#     n_shots=3\n",
    "# )\n",
    "\n",
    "# # Replace 'mistral_7b' with your own custom model\n",
    "# benchmark.evaluate(model=llm)\n",
    "# print(benchmark.overall_score)"
   ]
  },
  {
   "cell_type": "code",
   "execution_count": null,
   "metadata": {},
   "outputs": [],
   "source": []
  }
 ],
 "metadata": {
  "kernelspec": {
   "display_name": "Python 3",
   "language": "python",
   "name": "python3"
  },
  "language_info": {
   "codemirror_mode": {
    "name": "ipython",
    "version": 3
   },
   "file_extension": ".py",
   "mimetype": "text/x-python",
   "name": "python",
   "nbconvert_exporter": "python",
   "pygments_lexer": "ipython3",
   "version": "3.11.11"
  }
 },
 "nbformat": 4,
 "nbformat_minor": 2
}
